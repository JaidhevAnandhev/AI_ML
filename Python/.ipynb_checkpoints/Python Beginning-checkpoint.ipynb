{
 "cells": [
  {
   "cell_type": "markdown",
   "id": "57fcfcbe",
   "metadata": {},
   "source": [
    "# Hello World Output"
   ]
  },
  {
   "cell_type": "code",
   "execution_count": 1,
   "id": "7c7fa6ca",
   "metadata": {
    "scrolled": true
   },
   "outputs": [
    {
     "name": "stdout",
     "output_type": "stream",
     "text": [
      "Hello World!\n"
     ]
    }
   ],
   "source": [
    "print(\"Hello World!\")"
   ]
  },
  {
   "cell_type": "markdown",
   "id": "a088666a",
   "metadata": {},
   "source": [
    "# Variables in python"
   ]
  },
  {
   "cell_type": "code",
   "execution_count": 49,
   "id": "354c1b49",
   "metadata": {},
   "outputs": [
    {
     "data": {
      "text/plain": [
       "108"
      ]
     },
     "execution_count": 49,
     "metadata": {},
     "output_type": "execute_result"
    }
   ],
   "source": [
    "var = 108\n",
    "var"
   ]
  },
  {
   "cell_type": "code",
   "execution_count": 50,
   "id": "338224eb",
   "metadata": {
    "scrolled": true
   },
   "outputs": [
    {
     "data": {
      "text/plain": [
       "int"
      ]
     },
     "execution_count": 50,
     "metadata": {},
     "output_type": "execute_result"
    }
   ],
   "source": [
    "type(var)"
   ]
  },
  {
   "cell_type": "code",
   "execution_count": 7,
   "id": "bb2690e8",
   "metadata": {},
   "outputs": [
    {
     "data": {
      "text/plain": [
       "3.141414"
      ]
     },
     "execution_count": 7,
     "metadata": {},
     "output_type": "execute_result"
    }
   ],
   "source": [
    "var1 = 3.141414\n",
    "var1"
   ]
  },
  {
   "cell_type": "code",
   "execution_count": 9,
   "id": "4629b651",
   "metadata": {},
   "outputs": [
    {
     "data": {
      "text/plain": [
       "float"
      ]
     },
     "execution_count": 9,
     "metadata": {},
     "output_type": "execute_result"
    }
   ],
   "source": [
    "type(var1)"
   ]
  },
  {
   "cell_type": "code",
   "execution_count": 13,
   "id": "d0f3a3ff",
   "metadata": {},
   "outputs": [
    {
     "data": {
      "text/plain": [
       "108"
      ]
     },
     "execution_count": 13,
     "metadata": {},
     "output_type": "execute_result"
    }
   ],
   "source": [
    "var\n"
   ]
  },
  {
   "cell_type": "code",
   "execution_count": 14,
   "id": "bee3ffa8",
   "metadata": {},
   "outputs": [
    {
     "data": {
      "text/plain": [
       "23423.23432"
      ]
     },
     "execution_count": 14,
     "metadata": {},
     "output_type": "execute_result"
    }
   ],
   "source": [
    "var = 23423.23432\n",
    "var\n"
   ]
  },
  {
   "cell_type": "code",
   "execution_count": 15,
   "id": "e38b424b",
   "metadata": {},
   "outputs": [
    {
     "data": {
      "text/plain": [
       "float"
      ]
     },
     "execution_count": 15,
     "metadata": {},
     "output_type": "execute_result"
    }
   ],
   "source": [
    "type(var)"
   ]
  },
  {
   "cell_type": "code",
   "execution_count": 16,
   "id": "58d781e9",
   "metadata": {},
   "outputs": [
    {
     "data": {
      "text/plain": [
       "1234567897"
      ]
     },
     "execution_count": 16,
     "metadata": {},
     "output_type": "execute_result"
    }
   ],
   "source": [
    "var = 1234567897\n",
    "var"
   ]
  },
  {
   "cell_type": "code",
   "execution_count": 19,
   "id": "d7a63810",
   "metadata": {},
   "outputs": [
    {
     "data": {
      "text/plain": [
       "int"
      ]
     },
     "execution_count": 19,
     "metadata": {},
     "output_type": "execute_result"
    }
   ],
   "source": [
    "type(var)"
   ]
  },
  {
   "cell_type": "markdown",
   "id": "41534aa1",
   "metadata": {},
   "source": [
    "# Operators in python"
   ]
  },
  {
   "cell_type": "code",
   "execution_count": 22,
   "id": "d5e6315c",
   "metadata": {},
   "outputs": [],
   "source": [
    "a = 5\n",
    "b = 5"
   ]
  },
  {
   "cell_type": "code",
   "execution_count": 23,
   "id": "7b3efe14",
   "metadata": {},
   "outputs": [
    {
     "data": {
      "text/plain": [
       "10"
      ]
     },
     "execution_count": 23,
     "metadata": {},
     "output_type": "execute_result"
    }
   ],
   "source": [
    "# Addition\n",
    "a + b"
   ]
  },
  {
   "cell_type": "code",
   "execution_count": 24,
   "id": "85f736ec",
   "metadata": {},
   "outputs": [
    {
     "data": {
      "text/plain": [
       "0"
      ]
     },
     "execution_count": 24,
     "metadata": {},
     "output_type": "execute_result"
    }
   ],
   "source": [
    "# Subtraction\n",
    "a - b"
   ]
  },
  {
   "cell_type": "code",
   "execution_count": 26,
   "id": "a7b17567",
   "metadata": {},
   "outputs": [
    {
     "data": {
      "text/plain": [
       "25"
      ]
     },
     "execution_count": 26,
     "metadata": {},
     "output_type": "execute_result"
    }
   ],
   "source": [
    "# Multiplication\n",
    "a * b"
   ]
  },
  {
   "cell_type": "code",
   "execution_count": 27,
   "id": "9740fb35",
   "metadata": {},
   "outputs": [
    {
     "data": {
      "text/plain": [
       "1.0"
      ]
     },
     "execution_count": 27,
     "metadata": {},
     "output_type": "execute_result"
    }
   ],
   "source": [
    "# Division\n",
    "a / b"
   ]
  },
  {
   "cell_type": "code",
   "execution_count": 28,
   "id": "d86cc52b",
   "metadata": {},
   "outputs": [
    {
     "data": {
      "text/plain": [
       "float"
      ]
     },
     "execution_count": 28,
     "metadata": {},
     "output_type": "execute_result"
    }
   ],
   "source": [
    "type(a / b)"
   ]
  },
  {
   "cell_type": "code",
   "execution_count": 29,
   "id": "dbc56ea6",
   "metadata": {},
   "outputs": [
    {
     "data": {
      "text/plain": [
       "int"
      ]
     },
     "execution_count": 29,
     "metadata": {},
     "output_type": "execute_result"
    }
   ],
   "source": [
    "type(a * b)"
   ]
  },
  {
   "cell_type": "code",
   "execution_count": 30,
   "id": "cc0cac72",
   "metadata": {},
   "outputs": [
    {
     "data": {
      "text/plain": [
       "0"
      ]
     },
     "execution_count": 30,
     "metadata": {},
     "output_type": "execute_result"
    }
   ],
   "source": [
    "# Modulus\n",
    "a % b"
   ]
  },
  {
   "cell_type": "markdown",
   "id": "0350464d",
   "metadata": {},
   "source": [
    "# Relational Operators\n"
   ]
  },
  {
   "cell_type": "code",
   "execution_count": 31,
   "id": "0bd2792f",
   "metadata": {},
   "outputs": [
    {
     "data": {
      "text/plain": [
       "True"
      ]
     },
     "execution_count": 31,
     "metadata": {},
     "output_type": "execute_result"
    }
   ],
   "source": [
    "a == b"
   ]
  },
  {
   "cell_type": "code",
   "execution_count": 32,
   "id": "714e8bd5",
   "metadata": {},
   "outputs": [
    {
     "data": {
      "text/plain": [
       "bool"
      ]
     },
     "execution_count": 32,
     "metadata": {},
     "output_type": "execute_result"
    }
   ],
   "source": [
    "type(a==b)"
   ]
  },
  {
   "cell_type": "code",
   "execution_count": 34,
   "id": "0ae46fd0",
   "metadata": {},
   "outputs": [
    {
     "data": {
      "text/plain": [
       "False"
      ]
     },
     "execution_count": 34,
     "metadata": {},
     "output_type": "execute_result"
    }
   ],
   "source": [
    "a != b"
   ]
  },
  {
   "cell_type": "code",
   "execution_count": 35,
   "id": "caa7b66b",
   "metadata": {},
   "outputs": [
    {
     "data": {
      "text/plain": [
       "True"
      ]
     },
     "execution_count": 35,
     "metadata": {},
     "output_type": "execute_result"
    }
   ],
   "source": [
    "a = 15\n",
    "b = 10\n",
    "a > b"
   ]
  },
  {
   "cell_type": "code",
   "execution_count": 36,
   "id": "4b61a8e3",
   "metadata": {},
   "outputs": [
    {
     "data": {
      "text/plain": [
       "False"
      ]
     },
     "execution_count": 36,
     "metadata": {},
     "output_type": "execute_result"
    }
   ],
   "source": [
    "a < b"
   ]
  },
  {
   "cell_type": "code",
   "execution_count": 37,
   "id": "ebae5c97",
   "metadata": {},
   "outputs": [],
   "source": [
    "a = 10\n",
    "b = 10"
   ]
  },
  {
   "cell_type": "code",
   "execution_count": 38,
   "id": "4d03ea1c",
   "metadata": {},
   "outputs": [
    {
     "data": {
      "text/plain": [
       "True"
      ]
     },
     "execution_count": 38,
     "metadata": {},
     "output_type": "execute_result"
    }
   ],
   "source": [
    "a >= b"
   ]
  },
  {
   "cell_type": "code",
   "execution_count": 43,
   "id": "a57aa66b",
   "metadata": {},
   "outputs": [
    {
     "data": {
      "text/plain": [
       "True"
      ]
     },
     "execution_count": 43,
     "metadata": {},
     "output_type": "execute_result"
    }
   ],
   "source": [
    "a <= b"
   ]
  },
  {
   "cell_type": "markdown",
   "id": "f73fa4a7",
   "metadata": {},
   "source": [
    "# Logical Operators\n"
   ]
  },
  {
   "cell_type": "code",
   "execution_count": 44,
   "id": "87433983",
   "metadata": {},
   "outputs": [],
   "source": [
    "a = 10\n",
    "b = 10"
   ]
  },
  {
   "cell_type": "code",
   "execution_count": 45,
   "id": "e33b19ea",
   "metadata": {},
   "outputs": [
    {
     "data": {
      "text/plain": [
       "True"
      ]
     },
     "execution_count": 45,
     "metadata": {},
     "output_type": "execute_result"
    }
   ],
   "source": [
    "(a == b) & (a >= b)"
   ]
  },
  {
   "cell_type": "code",
   "execution_count": 46,
   "id": "b8c7d9c3",
   "metadata": {},
   "outputs": [
    {
     "data": {
      "text/plain": [
       "False"
      ]
     },
     "execution_count": 46,
     "metadata": {},
     "output_type": "execute_result"
    }
   ],
   "source": [
    "(a != b) | (a > b)"
   ]
  },
  {
   "cell_type": "code",
   "execution_count": 51,
   "id": "cbd51d94",
   "metadata": {},
   "outputs": [
    {
     "data": {
      "text/plain": [
       "False"
      ]
     },
     "execution_count": 51,
     "metadata": {},
     "output_type": "execute_result"
    }
   ],
   "source": [
    "(a != b) "
   ]
  },
  {
   "cell_type": "markdown",
   "id": "e79f09dc",
   "metadata": {},
   "source": [
    "# _Tokens in Python_\n",
    " * true\n",
    " * false\n",
    " * and\n",
    " * or \n",
    " * not \n",
    " * class\n",
    " * continue\n",
    " * def\n",
    " * del\n",
    " * if\n",
    " * elif\n",
    " * For\n",
    " * Return\n",
    " * While\n",
    " * ``` With```"
   ]
  },
  {
   "cell_type": "code",
   "execution_count": 54,
   "id": "ea844c7a",
   "metadata": {},
   "outputs": [],
   "source": [
    "#          Interpreter and Literals\n",
    "#                 V            V\n",
    "#                 V            V\n",
    "#                 V            V\n",
    "#         VariableName       Constants"
   ]
  },
  {
   "cell_type": "code",
   "execution_count": 57,
   "id": "eb4af852",
   "metadata": {},
   "outputs": [],
   "source": [
    " # Name given to the variables are interpreters\n",
    " # They're case sensitive\n",
    " # Literals are values that are given to a variable\n",
    "var = \"Hello var\"\n",
    "VAR = \"Hello VAR\""
   ]
  },
  {
   "cell_type": "code",
   "execution_count": 58,
   "id": "54ea4eab",
   "metadata": {},
   "outputs": [
    {
     "name": "stdout",
     "output_type": "stream",
     "text": [
      "Hello var\n",
      "Hello VAR\n"
     ]
    }
   ],
   "source": [
    "print(var)\n",
    "print(VAR)"
   ]
  },
  {
   "cell_type": "code",
   "execution_count": 59,
   "id": "d929ca70",
   "metadata": {},
   "outputs": [
    {
     "data": {
      "text/plain": [
       "str"
      ]
     },
     "execution_count": 59,
     "metadata": {},
     "output_type": "execute_result"
    }
   ],
   "source": [
    "type(var)"
   ]
  },
  {
   "cell_type": "markdown",
   "id": "0b4877e6",
   "metadata": {},
   "source": [
    "# Strings in Python"
   ]
  },
  {
   "cell_type": "code",
   "execution_count": 78,
   "id": "db10af73",
   "metadata": {},
   "outputs": [],
   "source": [
    "str_1 = \"Jaidhev anandhev\""
   ]
  },
  {
   "cell_type": "code",
   "execution_count": 79,
   "id": "69880be7",
   "metadata": {},
   "outputs": [
    {
     "data": {
      "text/plain": [
       "16"
      ]
     },
     "execution_count": 79,
     "metadata": {},
     "output_type": "execute_result"
    }
   ],
   "source": [
    "len(str_1)"
   ]
  },
  {
   "cell_type": "code",
   "execution_count": 80,
   "id": "9983355a",
   "metadata": {},
   "outputs": [
    {
     "data": {
      "text/plain": [
       "str"
      ]
     },
     "execution_count": 80,
     "metadata": {},
     "output_type": "execute_result"
    }
   ],
   "source": [
    "type(str_1)"
   ]
  },
  {
   "cell_type": "code",
   "execution_count": 81,
   "id": "47c9fd8c",
   "metadata": {},
   "outputs": [
    {
     "data": {
      "text/plain": [
       "'J'"
      ]
     },
     "execution_count": 81,
     "metadata": {},
     "output_type": "execute_result"
    }
   ],
   "source": [
    "str_1[0]"
   ]
  },
  {
   "cell_type": "code",
   "execution_count": 82,
   "id": "e8322f11",
   "metadata": {},
   "outputs": [
    {
     "data": {
      "text/plain": [
       "'dhev'"
      ]
     },
     "execution_count": 82,
     "metadata": {},
     "output_type": "execute_result"
    }
   ],
   "source": [
    "str_1[3:7]"
   ]
  },
  {
   "cell_type": "code",
   "execution_count": 83,
   "id": "f43b1147",
   "metadata": {},
   "outputs": [
    {
     "data": {
      "text/plain": [
       "'anandhev'"
      ]
     },
     "execution_count": 83,
     "metadata": {},
     "output_type": "execute_result"
    }
   ],
   "source": [
    "str_1[8:17]"
   ]
  },
  {
   "cell_type": "code",
   "execution_count": 85,
   "id": "e5ebf584",
   "metadata": {},
   "outputs": [
    {
     "data": {
      "text/plain": [
       "'jaidhev anandhev'"
      ]
     },
     "execution_count": 85,
     "metadata": {},
     "output_type": "execute_result"
    }
   ],
   "source": [
    "# Converting Upper Case to Lower case\n",
    "str_1.lower()"
   ]
  },
  {
   "cell_type": "code",
   "execution_count": 86,
   "id": "1f702762",
   "metadata": {},
   "outputs": [
    {
     "data": {
      "text/plain": [
       "'JAIDHEV ANANDHEV'"
      ]
     },
     "execution_count": 86,
     "metadata": {},
     "output_type": "execute_result"
    }
   ],
   "source": [
    "# Converting Lower Case to Upper case\n",
    "str_1.upper()"
   ]
  },
  {
   "cell_type": "code",
   "execution_count": 87,
   "id": "eb55b008",
   "metadata": {},
   "outputs": [
    {
     "data": {
      "text/plain": [
       "'Jfidhev anandhev'"
      ]
     },
     "execution_count": 87,
     "metadata": {},
     "output_type": "execute_result"
    }
   ],
   "source": [
    "# Replacing the substring in a String\n",
    "str_1.replace('Jai', 'Jfi')"
   ]
  },
  {
   "cell_type": "code",
   "execution_count": 91,
   "id": "6c6dbe3b",
   "metadata": {},
   "outputs": [
    {
     "data": {
      "text/plain": [
       "2"
      ]
     },
     "execution_count": 91,
     "metadata": {},
     "output_type": "execute_result"
    }
   ],
   "source": [
    "# count the words in a given string\n",
    "str_2 = \"Hello world Hello world\""
   ]
  },
  {
   "cell_type": "code",
   "execution_count": 92,
   "id": "f80a2e96",
   "metadata": {},
   "outputs": [
    {
     "data": {
      "text/plain": [
       "2"
      ]
     },
     "execution_count": 92,
     "metadata": {},
     "output_type": "execute_result"
    }
   ],
   "source": [
    "str_2.count('Hello')"
   ]
  },
  {
   "cell_type": "code",
   "execution_count": 93,
   "id": "406ddef5",
   "metadata": {},
   "outputs": [
    {
     "data": {
      "text/plain": [
       "2"
      ]
     },
     "execution_count": 93,
     "metadata": {},
     "output_type": "execute_result"
    }
   ],
   "source": [
    "str_2.count('world')"
   ]
  },
  {
   "cell_type": "code",
   "execution_count": 94,
   "id": "128ff1cd",
   "metadata": {},
   "outputs": [
    {
     "data": {
      "text/plain": [
       "'Jaidhev anandhev'"
      ]
     },
     "execution_count": 94,
     "metadata": {},
     "output_type": "execute_result"
    }
   ],
   "source": [
    "str_1.replace('Jfi', 'Jai')"
   ]
  },
  {
   "cell_type": "code",
   "execution_count": 96,
   "id": "e486fa97",
   "metadata": {},
   "outputs": [
    {
     "data": {
      "text/plain": [
       "8"
      ]
     },
     "execution_count": 96,
     "metadata": {},
     "output_type": "execute_result"
    }
   ],
   "source": [
    "# find the particular string it returns the index\n",
    "str_1.find('anand')"
   ]
  },
  {
   "cell_type": "code",
   "execution_count": 98,
   "id": "ee4e74e1",
   "metadata": {},
   "outputs": [],
   "source": [
    "str_2 = \"Hello there are apples, banana, mangoes, kiwi in our farm\""
   ]
  },
  {
   "cell_type": "code",
   "execution_count": 102,
   "id": "58ba615c",
   "metadata": {},
   "outputs": [
    {
     "data": {
      "text/plain": [
       "['Hello',\n",
       " 'there',\n",
       " 'are',\n",
       " 'apples,',\n",
       " 'banana,',\n",
       " 'mangoes,',\n",
       " 'kiwi',\n",
       " 'in',\n",
       " 'our',\n",
       " 'farm']"
      ]
     },
     "execution_count": 102,
     "metadata": {},
     "output_type": "execute_result"
    }
   ],
   "source": [
    "# Splitting each and every terms in a sentence\n",
    "str_2.split(' ')"
   ]
  },
  {
   "cell_type": "code",
   "execution_count": null,
   "id": "d4dc59e1",
   "metadata": {},
   "outputs": [],
   "source": []
  }
 ],
 "metadata": {
  "kernelspec": {
   "display_name": "Python 3 (ipykernel)",
   "language": "python",
   "name": "python3"
  },
  "language_info": {
   "codemirror_mode": {
    "name": "ipython",
    "version": 3
   },
   "file_extension": ".py",
   "mimetype": "text/x-python",
   "name": "python",
   "nbconvert_exporter": "python",
   "pygments_lexer": "ipython3",
   "version": "3.9.13"
  }
 },
 "nbformat": 4,
 "nbformat_minor": 5
}
