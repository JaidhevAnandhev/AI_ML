{
 "cells": [
  {
   "cell_type": "markdown",
   "id": "156bdfed",
   "metadata": {},
   "source": [
    "# Dictionaries\n",
    "   *  ```Dictionaries are unordered collection of key value pair ```\n",
    "   * ```{ key : value } is the syntax```\n",
    "   * ````Elements in dictioaries are muable that is the data can be modified````"
   ]
  },
  {
   "cell_type": "code",
   "execution_count": 3,
   "id": "be4c86d4",
   "metadata": {},
   "outputs": [],
   "source": [
    "# It is a combination of key value pair\n",
    "dict_1 = {\"Apple\" : 10, \"Banana\" : 20, \"Cappucino\" : 30, \"Dates\" : 40}"
   ]
  },
  {
   "cell_type": "code",
   "execution_count": 4,
   "id": "44da21df",
   "metadata": {},
   "outputs": [
    {
     "data": {
      "text/plain": [
       "{'Apple': 10, 'Banana': 20, 'Cappucino': 30, 'Dates': 40}"
      ]
     },
     "execution_count": 4,
     "metadata": {},
     "output_type": "execute_result"
    }
   ],
   "source": [
    "dict_1"
   ]
  },
  {
   "cell_type": "code",
   "execution_count": 6,
   "id": "21a34d0e",
   "metadata": {},
   "outputs": [
    {
     "data": {
      "text/plain": [
       "dict_keys(['Apple', 'Banana', 'Cappucino', 'Dates'])"
      ]
     },
     "execution_count": 6,
     "metadata": {},
     "output_type": "execute_result"
    }
   ],
   "source": [
    "# Print the key only\n",
    "dict_1.keys()"
   ]
  },
  {
   "cell_type": "code",
   "execution_count": 8,
   "id": "70734757",
   "metadata": {},
   "outputs": [
    {
     "data": {
      "text/plain": [
       "dict_values([10, 20, 30, 40])"
      ]
     },
     "execution_count": 8,
     "metadata": {},
     "output_type": "execute_result"
    }
   ],
   "source": [
    "# Print the value only\n",
    "dict_1.values()"
   ]
  },
  {
   "cell_type": "code",
   "execution_count": 10,
   "id": "9a8962bb",
   "metadata": {},
   "outputs": [
    {
     "data": {
      "text/plain": [
       "dict_items([('Apple', 10), ('Banana', 20), ('Cappucino', 30), ('Dates', 40)])"
      ]
     },
     "execution_count": 10,
     "metadata": {},
     "output_type": "execute_result"
    }
   ],
   "source": [
    "# return the complete value given [RETURNS AS A LIST]\n",
    "dict_1.items()"
   ]
  },
  {
   "cell_type": "code",
   "execution_count": 11,
   "id": "7b70fb1b",
   "metadata": {},
   "outputs": [],
   "source": [
    "#Adding up a new element\n",
    "dict_1[\"Mango\"] = 50"
   ]
  },
  {
   "cell_type": "code",
   "execution_count": 12,
   "id": "9b3a970a",
   "metadata": {},
   "outputs": [
    {
     "data": {
      "text/plain": [
       "{'Apple': 10, 'Banana': 20, 'Cappucino': 30, 'Dates': 40, 'Mango': 50}"
      ]
     },
     "execution_count": 12,
     "metadata": {},
     "output_type": "execute_result"
    }
   ],
   "source": [
    "# Updated dictionary \n",
    "dict_1"
   ]
  },
  {
   "cell_type": "code",
   "execution_count": 13,
   "id": "c61b7422",
   "metadata": {},
   "outputs": [
    {
     "data": {
      "text/plain": [
       "{'Apple': 10, 'Banana': 20, 'Cappucino': 30, 'Dates': 40, 'Mango': 100}"
      ]
     },
     "execution_count": 13,
     "metadata": {},
     "output_type": "execute_result"
    }
   ],
   "source": [
    "# Changing the existing value\n",
    "dict_1[\"Mango\"] = 100\n",
    "#Now the dictionary looks like\n",
    "dict_1"
   ]
  },
  {
   "cell_type": "code",
   "execution_count": 14,
   "id": "12079cca",
   "metadata": {},
   "outputs": [
    {
     "data": {
      "text/plain": [
       "{'Orange': 60, 'Guava': 70}"
      ]
     },
     "execution_count": 14,
     "metadata": {},
     "output_type": "execute_result"
    }
   ],
   "source": [
    "dict_2 = {\"Orange\" : 60, \"Guava\" : 70}\n",
    "dict_2"
   ]
  },
  {
   "cell_type": "code",
   "execution_count": 16,
   "id": "4267d681",
   "metadata": {},
   "outputs": [
    {
     "data": {
      "text/plain": [
       "{'Apple': 10,\n",
       " 'Banana': 20,\n",
       " 'Cappucino': 30,\n",
       " 'Dates': 40,\n",
       " 'Mango': 100,\n",
       " 'Orange': 60,\n",
       " 'Guava': 70}"
      ]
     },
     "execution_count": 16,
     "metadata": {},
     "output_type": "execute_result"
    }
   ],
   "source": [
    "# Update the dictionary with a new dictionary appending with the existing dictionary\n",
    "dict_1.update(dict_2)\n",
    "#Now the dictionary looks like\n",
    "dict_1"
   ]
  },
  {
   "cell_type": "code",
   "execution_count": 18,
   "id": "0912e360",
   "metadata": {},
   "outputs": [
    {
     "data": {
      "text/plain": [
       "{'Apple': 10,\n",
       " 'Banana': 20,\n",
       " 'Cappucino': 30,\n",
       " 'Dates': 40,\n",
       " 'Mango': 100,\n",
       " 'Orange': 60}"
      ]
     },
     "execution_count": 18,
     "metadata": {},
     "output_type": "execute_result"
    }
   ],
   "source": [
    "# Popping an element in a dictionary\n",
    "dict_1.pop('Guava');\n",
    "# Now the dict_1 is\n",
    "dict_1"
   ]
  }
 ],
 "metadata": {
  "kernelspec": {
   "display_name": "Python 3 (ipykernel)",
   "language": "python",
   "name": "python3"
  },
  "language_info": {
   "codemirror_mode": {
    "name": "ipython",
    "version": 3
   },
   "file_extension": ".py",
   "mimetype": "text/x-python",
   "name": "python",
   "nbconvert_exporter": "python",
   "pygments_lexer": "ipython3",
   "version": "3.9.13"
  }
 },
 "nbformat": 4,
 "nbformat_minor": 5
}
