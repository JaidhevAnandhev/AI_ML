{
 "cells": [
  {
   "cell_type": "markdown",
   "id": "15379c55",
   "metadata": {},
   "source": [
    "# Lists\n",
    "    ~~~ Lists are similar to tuples except that lists are mutable that is lists are mutable  ~~~\n",
    "    ~~~ That is data in lists can be modified and altered ~~~\n",
    "    ~~~ It is enclised within square braces [] ~~~"
   ]
  },
  {
   "cell_type": "code",
   "execution_count": 9,
   "id": "9b7e8227",
   "metadata": {},
   "outputs": [],
   "source": [
    "list_1 = [108, \"Jaidhev\", 3.14, 5+6j]"
   ]
  },
  {
   "cell_type": "code",
   "execution_count": 10,
   "id": "f58cb640",
   "metadata": {},
   "outputs": [
    {
     "data": {
      "text/plain": [
       "[108, 'Jaidhev', 3.14, (5+6j)]"
      ]
     },
     "execution_count": 10,
     "metadata": {},
     "output_type": "execute_result"
    }
   ],
   "source": [
    "list_1"
   ]
  },
  {
   "cell_type": "code",
   "execution_count": 11,
   "id": "ec0293e2",
   "metadata": {},
   "outputs": [
    {
     "data": {
      "text/plain": [
       "list"
      ]
     },
     "execution_count": 11,
     "metadata": {},
     "output_type": "execute_result"
    }
   ],
   "source": [
    "type(list_1)"
   ]
  },
  {
   "cell_type": "code",
   "execution_count": 12,
   "id": "ab666f11",
   "metadata": {},
   "outputs": [],
   "source": [
    "# Data in the list can be altered or  modified\n",
    "list_1[2] = 3.142434"
   ]
  },
  {
   "cell_type": "code",
   "execution_count": 13,
   "id": "79119667",
   "metadata": {},
   "outputs": [
    {
     "data": {
      "text/plain": [
       "[108, 'Jaidhev', 3.142434, (5+6j)]"
      ]
     },
     "execution_count": 13,
     "metadata": {},
     "output_type": "execute_result"
    }
   ],
   "source": [
    "# Returns the modified list\n",
    "list_1"
   ]
  },
  {
   "cell_type": "code",
   "execution_count": 14,
   "id": "2694bbb9",
   "metadata": {},
   "outputs": [],
   "source": [
    "# Append the data in a list \n",
    "list_1.append(\"data at the end\")"
   ]
  },
  {
   "cell_type": "code",
   "execution_count": 16,
   "id": "59f800f8",
   "metadata": {},
   "outputs": [
    {
     "data": {
      "text/plain": [
       "[108, 'Jaidhev', 3.142434, (5+6j), 'data at the end']"
      ]
     },
     "execution_count": 16,
     "metadata": {},
     "output_type": "execute_result"
    }
   ],
   "source": [
    "list_1"
   ]
  },
  {
   "cell_type": "code",
   "execution_count": 18,
   "id": "433ebe17",
   "metadata": {},
   "outputs": [
    {
     "data": {
      "text/plain": [
       "3.142434"
      ]
     },
     "execution_count": 18,
     "metadata": {},
     "output_type": "execute_result"
    }
   ],
   "source": [
    "list_1[2]"
   ]
  },
  {
   "cell_type": "code",
   "execution_count": 20,
   "id": "cbf6118c",
   "metadata": {},
   "outputs": [
    {
     "data": {
      "text/plain": [
       "[3.142434, (5+6j), 'data at the end']"
      ]
     },
     "execution_count": 20,
     "metadata": {},
     "output_type": "execute_result"
    }
   ],
   "source": [
    "# Printing the particular range of elemnts in a list\n",
    "list_1[2:5]"
   ]
  },
  {
   "cell_type": "code",
   "execution_count": 21,
   "id": "61b9ea12",
   "metadata": {},
   "outputs": [
    {
     "data": {
      "text/plain": [
       "'data at the end'"
      ]
     },
     "execution_count": 21,
     "metadata": {},
     "output_type": "execute_result"
    }
   ],
   "source": [
    "#Remove the last element in a list\n",
    "list_1.pop()"
   ]
  },
  {
   "cell_type": "code",
   "execution_count": 22,
   "id": "f01f1b1f",
   "metadata": {},
   "outputs": [
    {
     "data": {
      "text/plain": [
       "[108, 'Jaidhev', 3.142434, (5+6j)]"
      ]
     },
     "execution_count": 22,
     "metadata": {},
     "output_type": "execute_result"
    }
   ],
   "source": [
    "# Now the list is \n",
    "list_1"
   ]
  },
  {
   "cell_type": "code",
   "execution_count": 25,
   "id": "5c1d205c",
   "metadata": {},
   "outputs": [
    {
     "data": {
      "text/plain": [
       "[(5+6j), 3.142434, 'Jaidhev', 108]"
      ]
     },
     "execution_count": 25,
     "metadata": {},
     "output_type": "execute_result"
    }
   ],
   "source": [
    "#Reverse a list\n",
    "list_1.reverse()\n",
    "#Now the list is \n",
    "list_1"
   ]
  },
  {
   "cell_type": "code",
   "execution_count": 26,
   "id": "b8d6ece5",
   "metadata": {},
   "outputs": [
    {
     "data": {
      "text/plain": [
       "[108, 'Jaidhev', 3.142434, (5+6j)]"
      ]
     },
     "execution_count": 26,
     "metadata": {},
     "output_type": "execute_result"
    }
   ],
   "source": [
    "#Reverse a list\n",
    "list_1.reverse()\n",
    "#Now the list is\n",
    "list_1"
   ]
  },
  {
   "cell_type": "code",
   "execution_count": 29,
   "id": "cc4f0d67",
   "metadata": {},
   "outputs": [
    {
     "data": {
      "text/plain": [
       "[108, 'Hello', 'Jaidhev', 3.142434, (5+6j)]"
      ]
     },
     "execution_count": 29,
     "metadata": {},
     "output_type": "execute_result"
    }
   ],
   "source": [
    "# Insert an elemnt at a particular index\n",
    "list_1.insert(1, \"Hello\")\n",
    "list_1"
   ]
  },
  {
   "cell_type": "code",
   "execution_count": 31,
   "id": "a4ab24fd",
   "metadata": {},
   "outputs": [],
   "source": [
    "list_2 = [\"Jet\", \"Art\", \"Cat\", \"Ball\", \"Me\"]"
   ]
  },
  {
   "cell_type": "code",
   "execution_count": 33,
   "id": "ce5d347a",
   "metadata": {},
   "outputs": [
    {
     "data": {
      "text/plain": [
       "['Art', 'Ball', 'Cat', 'Jet', 'Me']"
      ]
     },
     "execution_count": 33,
     "metadata": {},
     "output_type": "execute_result"
    }
   ],
   "source": [
    "#Sort a list\n",
    "list_2.sort()\n",
    "list_2"
   ]
  },
  {
   "cell_type": "code",
   "execution_count": 34,
   "id": "4e425b47",
   "metadata": {},
   "outputs": [
    {
     "data": {
      "text/plain": [
       "[108, 'Hello', 'Jaidhev', 3.142434, (5+6j), 'Art', 'Ball', 'Cat', 'Jet', 'Me']"
      ]
     },
     "execution_count": 34,
     "metadata": {},
     "output_type": "execute_result"
    }
   ],
   "source": [
    "# concatenating the lists\n",
    "\n",
    "list_1 + list_2"
   ]
  },
  {
   "cell_type": "code",
   "execution_count": 38,
   "id": "3458549c",
   "metadata": {},
   "outputs": [
    {
     "data": {
      "text/plain": [
       "['Art', 'Ball', 'Cat', 'Jet', 'Me', 'Art', 'Ball', 'Cat', 'Jet', 'Me']"
      ]
     },
     "execution_count": 38,
     "metadata": {},
     "output_type": "execute_result"
    }
   ],
   "source": [
    "# Repeating the elements in a list [TWICE]\n",
    "list_2 * 2"
   ]
  }
 ],
 "metadata": {
  "kernelspec": {
   "display_name": "Python 3 (ipykernel)",
   "language": "python",
   "name": "python3"
  },
  "language_info": {
   "codemirror_mode": {
    "name": "ipython",
    "version": 3
   },
   "file_extension": ".py",
   "mimetype": "text/x-python",
   "name": "python",
   "nbconvert_exporter": "python",
   "pygments_lexer": "ipython3",
   "version": "3.9.13"
  }
 },
 "nbformat": 4,
 "nbformat_minor": 5
}
