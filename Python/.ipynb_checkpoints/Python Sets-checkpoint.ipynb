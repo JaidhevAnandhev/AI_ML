{
 "cells": [
  {
   "cell_type": "markdown",
   "id": "56afe244",
   "metadata": {},
   "source": [
    "# Sets in Python\n",
    "   * ``Set is an unordered and unindexed collection of elements enclosed within {}``\n",
    "   * `VERY IMPORTANT` : ` DUPLICATES ARE NOT ALLOWED IN A SET `\n",
    "   * `Thus if you add a new element in a set it would be assigned in a random set`\n",
    "   "
   ]
  },
  {
   "cell_type": "code",
   "execution_count": 2,
   "id": "a51234d9",
   "metadata": {},
   "outputs": [
    {
     "data": {
      "text/plain": [
       "{1, 'Jai'}"
      ]
     },
     "execution_count": 2,
     "metadata": {},
     "output_type": "execute_result"
    }
   ],
   "source": [
    "# Let's create a set\n",
    "set_1 = {1, \"Jai\", 1, \"Jai\"}\n",
    "# You would see that the duplicates are not allowed in a set\n",
    "set_1"
   ]
  },
  {
   "cell_type": "code",
   "execution_count": 3,
   "id": "46b46e95",
   "metadata": {},
   "outputs": [
    {
     "data": {
      "text/plain": [
       "{1, 'Jai', 'Welcome'}"
      ]
     },
     "execution_count": 3,
     "metadata": {},
     "output_type": "execute_result"
    }
   ],
   "source": [
    "# Add an element to a set\n",
    "set_1.add(\"Welcome\")\n",
    "set_1"
   ]
  },
  {
   "cell_type": "code",
   "execution_count": 5,
   "id": "b88c0fd0",
   "metadata": {},
   "outputs": [
    {
     "data": {
      "text/plain": [
       "{1, 'Jai', 'Set', 'Welcome'}"
      ]
     },
     "execution_count": 5,
     "metadata": {},
     "output_type": "execute_result"
    }
   ],
   "source": [
    "set_1.add(\"Set\")\n",
    "set_1\n",
    "# Check that the element is added to a random index"
   ]
  },
  {
   "cell_type": "code",
   "execution_count": 6,
   "id": "08c950e0",
   "metadata": {},
   "outputs": [],
   "source": [
    "# To add multiple elements in a set we use update function\n",
    "set_1.update([3.14, 5+6j, \"Jaidhev\"])"
   ]
  },
  {
   "cell_type": "code",
   "execution_count": 8,
   "id": "2fd7eed4",
   "metadata": {},
   "outputs": [
    {
     "data": {
      "text/plain": [
       "{(5+6j), 1, 3.14, 'Jai', 'Jaidhev', 'Set', 'Welcome'}"
      ]
     },
     "execution_count": 8,
     "metadata": {},
     "output_type": "execute_result"
    }
   ],
   "source": [
    "# You see that the elements are arranged in a random index\n",
    "set_1"
   ]
  },
  {
   "cell_type": "code",
   "execution_count": 9,
   "id": "1d54e125",
   "metadata": {},
   "outputs": [
    {
     "data": {
      "text/plain": [
       "{(5+6j), 1, 3.14, 'Jaidhev', 'Set', 'Welcome'}"
      ]
     },
     "execution_count": 9,
     "metadata": {},
     "output_type": "execute_result"
    }
   ],
   "source": [
    "# Remove an element from the set\n",
    "set_1.remove(\"Jai\")\n",
    "set_1"
   ]
  },
  {
   "cell_type": "code",
   "execution_count": 10,
   "id": "aad65413",
   "metadata": {},
   "outputs": [
    {
     "data": {
      "text/plain": [
       "{1, 2, 3, 'One', 'Three', 'Two'}"
      ]
     },
     "execution_count": 10,
     "metadata": {},
     "output_type": "execute_result"
    }
   ],
   "source": [
    "# Concatenation of the two sets is called as Union\n",
    "set_1 = {1, 2, 3}\n",
    "set_2 = {'One', 'Two', 'Three'}\n",
    "\n",
    "# Union of two sets\n",
    "set_1.union(set_2)\n",
    "\n",
    "# Now the sets are"
   ]
  },
  {
   "cell_type": "code",
   "execution_count": 11,
   "id": "e6eebfbf",
   "metadata": {},
   "outputs": [],
   "source": [
    "set_2 = {2,3,4,6}"
   ]
  },
  {
   "cell_type": "code",
   "execution_count": 12,
   "id": "eaaf352e",
   "metadata": {},
   "outputs": [
    {
     "data": {
      "text/plain": [
       "{2, 3, 4, 6}"
      ]
     },
     "execution_count": 12,
     "metadata": {},
     "output_type": "execute_result"
    }
   ],
   "source": [
    "set_2"
   ]
  },
  {
   "cell_type": "code",
   "execution_count": 13,
   "id": "729bdcfc",
   "metadata": {},
   "outputs": [
    {
     "data": {
      "text/plain": [
       "{2, 3}"
      ]
     },
     "execution_count": 13,
     "metadata": {},
     "output_type": "execute_result"
    }
   ],
   "source": [
    "# Get the intersection of two sets \n",
    "set_1.intersection(set_2)"
   ]
  }
 ],
 "metadata": {
  "kernelspec": {
   "display_name": "Python 3 (ipykernel)",
   "language": "python",
   "name": "python3"
  },
  "language_info": {
   "codemirror_mode": {
    "name": "ipython",
    "version": 3
   },
   "file_extension": ".py",
   "mimetype": "text/x-python",
   "name": "python",
   "nbconvert_exporter": "python",
   "pygments_lexer": "ipython3",
   "version": "3.9.13"
  }
 },
 "nbformat": 4,
 "nbformat_minor": 5
}
