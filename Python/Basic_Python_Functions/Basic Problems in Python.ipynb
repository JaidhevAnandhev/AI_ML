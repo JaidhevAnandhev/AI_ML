{
 "cells": [
  {
   "cell_type": "code",
   "execution_count": null,
   "id": "b683e878",
   "metadata": {},
   "outputs": [],
   "source": [
    "# Check even odd of a number"
   ]
  },
  {
   "cell_type": "code",
   "execution_count": 2,
   "id": "d3fa0605",
   "metadata": {},
   "outputs": [
    {
     "name": "stdout",
     "output_type": "stream",
     "text": [
      "Enter a number : 5\n",
      "It is a odd number\n"
     ]
    }
   ],
   "source": [
    "# Syntax for getting the input from the user\n",
    "number = int(input(\"Enter a number : \"))\n",
    "if(number % 2 == 0):\n",
    "    print(\"It is an even number\")\n",
    "else:\n",
    "    print(\"It is a odd number\")"
   ]
  },
  {
   "cell_type": "code",
   "execution_count": 3,
   "id": "829600e9",
   "metadata": {},
   "outputs": [],
   "source": [
    "# Check if a number is positive negative or zero"
   ]
  },
  {
   "cell_type": "code",
   "execution_count": 6,
   "id": "3cf2294f",
   "metadata": {},
   "outputs": [
    {
     "name": "stdout",
     "output_type": "stream",
     "text": [
      "Enter any number : 0\n",
      "This is a ZERO\n"
     ]
    }
   ],
   "source": [
    "number = int(input(\"Enter any number : \"))\n",
    "if (number > 0):\n",
    "    print(number, \" is a positive number\")\n",
    "elif (number < 0):\n",
    "    print(number, \" is a negative number\")\n",
    "else:\n",
    "    print(\"This is a ZERO\")"
   ]
  },
  {
   "cell_type": "code",
   "execution_count": 7,
   "id": "0377f8a0",
   "metadata": {},
   "outputs": [],
   "source": [
    "# Factorial of a number"
   ]
  },
  {
   "cell_type": "code",
   "execution_count": 11,
   "id": "06b7b0a0",
   "metadata": {},
   "outputs": [
    {
     "name": "stdout",
     "output_type": "stream",
     "text": [
      "Enter a number : 7\n",
      "Factorial of 7 is 5040\n"
     ]
    }
   ],
   "source": [
    "num = int(input(\"Enter a number : \"))\n",
    "if(num < 0):\n",
    "    print(\"Cannot find factorial!\")\n",
    "if(num == 0):\n",
    "    print(\"Factorial is 1\")\n",
    "fact = 1;\n",
    "for i in range(1, num+1):\n",
    "    fact = fact * i\n",
    "print( \"Factorial of\", num, \"is\", fact)"
   ]
  },
  {
   "cell_type": "code",
   "execution_count": 12,
   "id": "ab35b606",
   "metadata": {},
   "outputs": [],
   "source": [
    "# Reverse a number"
   ]
  },
  {
   "cell_type": "code",
   "execution_count": 19,
   "id": "730be652",
   "metadata": {},
   "outputs": [
    {
     "name": "stdout",
     "output_type": "stream",
     "text": [
      "Enter a number : 1234567890\n",
      "Reversed number is =  987654321\n"
     ]
    }
   ],
   "source": [
    "num = int(input(\"Enter a number : \"))\n",
    "rev = 0\n",
    "while(num > 0):\n",
    "    dig = num % 10\n",
    "    rev = rev * 10 + dig\n",
    "    num = num // 10       # Symbol for division for python is //\n",
    "print(\"Reversed number is = \", rev)"
   ]
  },
  {
   "cell_type": "code",
   "execution_count": 23,
   "id": "a0de0e2b",
   "metadata": {},
   "outputs": [
    {
     "data": {
      "text/plain": [
       "1.5"
      ]
     },
     "execution_count": 23,
     "metadata": {},
     "output_type": "execute_result"
    }
   ],
   "source": [
    "# This division returns a float value\n",
    "3/2"
   ]
  },
  {
   "cell_type": "code",
   "execution_count": 22,
   "id": "71df6593",
   "metadata": {},
   "outputs": [
    {
     "data": {
      "text/plain": [
       "1"
      ]
     },
     "execution_count": 22,
     "metadata": {},
     "output_type": "execute_result"
    }
   ],
   "source": [
    "# Floor division that returns a integer value\n",
    "3//2"
   ]
  },
  {
   "cell_type": "code",
   "execution_count": 24,
   "id": "243168ad",
   "metadata": {},
   "outputs": [],
   "source": [
    "# Check if a number is a palindrome\n",
    "# Logic is same as the reversing the number except that youy check whether the original is \n",
    "# equal to the reversed number."
   ]
  },
  {
   "cell_type": "code",
   "execution_count": 27,
   "id": "bf286032",
   "metadata": {},
   "outputs": [
    {
     "name": "stdout",
     "output_type": "stream",
     "text": [
      "Enter a series of numbers : 12345\n",
      "The given string is not a palindrome\n"
     ]
    }
   ],
   "source": [
    "num = int(input(\"Enter a series of numbers : \"))\n",
    "temp = num\n",
    "rev = 0\n",
    "while(num > 0):\n",
    "    dig = num % 10\n",
    "    rev = rev * 10 + dig\n",
    "    num = num // 10\n",
    "# check if the given series fo numbers are palindrome or not\n",
    "if(temp == rev):\n",
    "    print(\"The given string is a palindrome\")\n",
    "else:\n",
    "    print(\"The given string is not a palindrome\")"
   ]
  },
  {
   "cell_type": "code",
   "execution_count": 28,
   "id": "f4caea13",
   "metadata": {},
   "outputs": [],
   "source": [
    "# Fibonacci series of a number"
   ]
  },
  {
   "cell_type": "code",
   "execution_count": 32,
   "id": "4d382eda",
   "metadata": {},
   "outputs": [
    {
     "name": "stdout",
     "output_type": "stream",
     "text": [
      "Enter a number5\n",
      "Factorial of 5 is : 3\n"
     ]
    }
   ],
   "source": [
    "num = int(input(\"Enter a number\"))\n",
    "a = 0\n",
    "b = 1\n",
    "if(num == 0 & num == 1):\n",
    "    print(a)\n",
    "else:\n",
    "    for i in range(2, num):\n",
    "        c = a + b\n",
    "        a = b\n",
    "        b = c\n",
    "    print(\"Factorial of\", num, \"is :\", b)"
   ]
  }
 ],
 "metadata": {
  "kernelspec": {
   "display_name": "Python 3 (ipykernel)",
   "language": "python",
   "name": "python3"
  },
  "language_info": {
   "codemirror_mode": {
    "name": "ipython",
    "version": 3
   },
   "file_extension": ".py",
   "mimetype": "text/x-python",
   "name": "python",
   "nbconvert_exporter": "python",
   "pygments_lexer": "ipython3",
   "version": "3.9.13"
  }
 },
 "nbformat": 4,
 "nbformat_minor": 5
}
