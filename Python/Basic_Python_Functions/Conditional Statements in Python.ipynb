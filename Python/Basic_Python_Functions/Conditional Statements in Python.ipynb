{
 "cells": [
  {
   "cell_type": "markdown",
   "id": "a67c9149",
   "metadata": {},
   "source": [
    "# IF ELSE CONDITION "
   ]
  },
  {
   "cell_type": "code",
   "execution_count": 1,
   "id": "4cfccfef",
   "metadata": {},
   "outputs": [],
   "source": [
    "a = 100\n",
    "b = 20"
   ]
  },
  {
   "cell_type": "code",
   "execution_count": 2,
   "id": "2adc2f83",
   "metadata": {},
   "outputs": [
    {
     "name": "stdout",
     "output_type": "stream",
     "text": [
      "Greatest number is A 100\n"
     ]
    }
   ],
   "source": [
    "if(a > b):\n",
    "    print(\"Greatest number is A\" ,a);\n",
    "else:\n",
    "    print(\"Greatest number is B\" ,b);"
   ]
  },
  {
   "cell_type": "markdown",
   "id": "5f8a6a02",
   "metadata": {},
   "source": [
    "# ELIF (Else if condition in python)"
   ]
  },
  {
   "cell_type": "code",
   "execution_count": 3,
   "id": "92bff790",
   "metadata": {},
   "outputs": [
    {
     "name": "stdout",
     "output_type": "stream",
     "text": [
      "Greatest is =  50\n"
     ]
    }
   ],
   "source": [
    "a = 20\n",
    "b = 30\n",
    "c = 50\n",
    "if(a > b & a > c):\n",
    "    print(\"Greatest is = \", a)\n",
    "elif(b > a & b > c):\n",
    "    print(\"Greatest is = \", b)\n",
    "else:\n",
    "    print(\"Greatest is = \", c)"
   ]
  },
  {
   "cell_type": "markdown",
   "id": "35183360",
   "metadata": {},
   "source": [
    "# IF WITH TUPLE\n",
    "``Check if an element is present in a tuple ``"
   ]
  },
  {
   "cell_type": "code",
   "execution_count": 4,
   "id": "39f33f8e",
   "metadata": {},
   "outputs": [],
   "source": [
    "tup_1 = (1,2,3,4)"
   ]
  },
  {
   "cell_type": "code",
   "execution_count": 5,
   "id": "5f1bda4a",
   "metadata": {},
   "outputs": [
    {
     "name": "stdout",
     "output_type": "stream",
     "text": [
      "2 is present\n"
     ]
    }
   ],
   "source": [
    "# Syntax in python\n",
    "if 2 in tup_1:\n",
    "    print(\"2 is present\")"
   ]
  },
  {
   "cell_type": "markdown",
   "id": "d94facb8",
   "metadata": {},
   "source": [
    "# IF WITH LIST\n",
    "``` Check if element is present in a list```"
   ]
  },
  {
   "cell_type": "code",
   "execution_count": 6,
   "id": "b515164f",
   "metadata": {},
   "outputs": [
    {
     "name": "stdout",
     "output_type": "stream",
     "text": [
      "It is present\n"
     ]
    }
   ],
   "source": [
    "list_1 = ['Jai', 3.14, 5+6j, 5]\n",
    "\n",
    "if 3.14 in list_1:\n",
    "    print(\"It is present\")"
   ]
  },
  {
   "cell_type": "code",
   "execution_count": 7,
   "id": "42f1ae37",
   "metadata": {},
   "outputs": [],
   "source": [
    "if list_1[0] == 'Jai':\n",
    "    list_1[0] = 'Jaidhev'"
   ]
  },
  {
   "cell_type": "code",
   "execution_count": 8,
   "id": "950debe5",
   "metadata": {},
   "outputs": [
    {
     "data": {
      "text/plain": [
       "['Jaidhev', 3.14, (5+6j), 5]"
      ]
     },
     "execution_count": 8,
     "metadata": {},
     "output_type": "execute_result"
    }
   ],
   "source": [
    "# Thus the list is now updated\n",
    "list_1"
   ]
  },
  {
   "cell_type": "code",
   "execution_count": 9,
   "id": "30f60651",
   "metadata": {},
   "outputs": [],
   "source": [
    "if list[3] == 4:\n",
    "    list_1[3] = list_1[3] + 100\n",
    "else:\n",
    "    list_1[3] = list_1[3] + 250"
   ]
  },
  {
   "cell_type": "code",
   "execution_count": 10,
   "id": "4b259d40",
   "metadata": {},
   "outputs": [
    {
     "data": {
      "text/plain": [
       "['Jaidhev', 3.14, (5+6j), 255]"
      ]
     },
     "execution_count": 10,
     "metadata": {},
     "output_type": "execute_result"
    }
   ],
   "source": [
    "list_1"
   ]
  },
  {
   "cell_type": "markdown",
   "id": "544d39d7",
   "metadata": {},
   "source": [
    "# IF WITH DICTIONARIES"
   ]
  },
  {
   "cell_type": "code",
   "execution_count": 11,
   "id": "235f0bb2",
   "metadata": {},
   "outputs": [
    {
     "name": "stdout",
     "output_type": "stream",
     "text": [
      "True\n"
     ]
    }
   ],
   "source": [
    "dict_1 = {'a' : 1, 'b' : 2, 'c' : 3}\n",
    "if dict_1['a'] == 1: #Place only the \"key\" within the parameter\n",
    "    print(\"True\")"
   ]
  },
  {
   "cell_type": "markdown",
   "id": "c625f3db",
   "metadata": {},
   "source": [
    "# ```LOOPING STATEMENTS IN PYTHON```\n"
   ]
  },
  {
   "cell_type": "markdown",
   "id": "273a750f",
   "metadata": {},
   "source": [
    "# WHILE LOOP"
   ]
  },
  {
   "cell_type": "code",
   "execution_count": 12,
   "id": "7a214c09",
   "metadata": {},
   "outputs": [
    {
     "name": "stdout",
     "output_type": "stream",
     "text": [
      "1\n",
      "2\n",
      "3\n",
      "4\n",
      "5\n",
      "6\n",
      "7\n",
      "8\n",
      "9\n",
      "10\n"
     ]
    }
   ],
   "source": [
    "i = 1\n",
    "while (i <= 10):\n",
    "    print(i)\n",
    "    i += 1"
   ]
  },
  {
   "cell_type": "code",
   "execution_count": 13,
   "id": "5ead01f3",
   "metadata": {},
   "outputs": [],
   "source": [
    "# TABLES"
   ]
  },
  {
   "cell_type": "code",
   "execution_count": 15,
   "id": "9f2c40d0",
   "metadata": {},
   "outputs": [
    {
     "name": "stdout",
     "output_type": "stream",
     "text": [
      "5  *  1  =  5\n",
      "5  *  2  =  10\n",
      "5  *  3  =  15\n",
      "5  *  4  =  20\n",
      "5  *  5  =  25\n",
      "5  *  6  =  30\n",
      "5  *  7  =  35\n",
      "5  *  8  =  40\n",
      "5  *  9  =  45\n",
      "5  *  10  =  50\n"
     ]
    }
   ],
   "source": [
    "i = 1\n",
    "n = 5\n",
    "while i <= 10 :\n",
    "    print(n, \" * \", i, \" = \", n*i)\n",
    "    i += 1"
   ]
  },
  {
   "cell_type": "code",
   "execution_count": 16,
   "id": "1932a389",
   "metadata": {},
   "outputs": [],
   "source": [
    "list_1 = [1,2,3,4,5]"
   ]
  },
  {
   "cell_type": "markdown",
   "id": "c4d4819d",
   "metadata": {},
   "source": [
    "i = 0"
   ]
  },
  {
   "cell_type": "code",
   "execution_count": 20,
   "id": "b5313b58",
   "metadata": {},
   "outputs": [],
   "source": [
    "while i < len(list_1):\n",
    "    list_1[i] = list_1[i] + 100\n",
    "    i = i + 1"
   ]
  },
  {
   "cell_type": "code",
   "execution_count": 21,
   "id": "8798e5a6",
   "metadata": {},
   "outputs": [
    {
     "data": {
      "text/plain": [
       "[101, 102, 103, 104, 105]"
      ]
     },
     "execution_count": 21,
     "metadata": {},
     "output_type": "execute_result"
    }
   ],
   "source": [
    "list_1"
   ]
  },
  {
   "cell_type": "markdown",
   "id": "7a964ba6",
   "metadata": {},
   "source": [
    "# FOR LOOP \n",
    " * ``` It is used to iterate over the lists, tuples, dictionary```"
   ]
  },
  {
   "cell_type": "code",
   "execution_count": 25,
   "id": "210f4749",
   "metadata": {},
   "outputs": [
    {
     "name": "stdout",
     "output_type": "stream",
     "text": [
      "Apple\n",
      "Orange\n",
      "Guava\n"
     ]
    }
   ],
   "source": [
    "list_1 = ['Apple', 'Orange', 'Guava']\n",
    "for i in list_1:\n",
    "    print(i)"
   ]
  },
  {
   "cell_type": "code",
   "execution_count": 26,
   "id": "327f04b2",
   "metadata": {},
   "outputs": [
    {
     "name": "stdout",
     "output_type": "stream",
     "text": [
      "Apple Blue\n",
      "Apple Green\n",
      "Apple Red\n",
      "Orange Blue\n",
      "Orange Green\n",
      "Orange Red\n",
      "Guava Blue\n",
      "Guava Green\n",
      "Guava Red\n"
     ]
    }
   ],
   "source": [
    "list_1 = ['Apple', 'Orange', 'Guava']\n",
    "list_2 = ['Blue', 'Green', 'Red']\n",
    "for i in list_1:\n",
    "    for j in list_2:\n",
    "        print(i, j)"
   ]
  }
 ],
 "metadata": {
  "kernelspec": {
   "display_name": "Python 3 (ipykernel)",
   "language": "python",
   "name": "python3"
  },
  "language_info": {
   "codemirror_mode": {
    "name": "ipython",
    "version": 3
   },
   "file_extension": ".py",
   "mimetype": "text/x-python",
   "name": "python",
   "nbconvert_exporter": "python",
   "pygments_lexer": "ipython3",
   "version": "3.9.13"
  }
 },
 "nbformat": 4,
 "nbformat_minor": 5
}
