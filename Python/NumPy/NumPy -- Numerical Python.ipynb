{
 "cells": [
  {
   "cell_type": "markdown",
   "id": "d36507b2",
   "metadata": {},
   "source": [
    "# NumPy\n",
    "* ```NumPy stands for Numerical Python```\n",
    "* ``` It is the core library for numeric and scientific computing.```\n",
    "   * ```It consists of a multi dimensional array objects ```\n",
    "   * ```Collection of routines to process those arrays. ```\n",
    "* ```Python provides the ability to work on these multidimensional arrays.```"
   ]
  },
  {
   "cell_type": "markdown",
   "id": "3ce6815c",
   "metadata": {},
   "source": [
    "# NumPy Arrays\n",
    "\n",
    "### 1. SingleDimensional Array"
   ]
  },
  {
   "cell_type": "code",
   "execution_count": 1,
   "id": "072252d4",
   "metadata": {},
   "outputs": [
    {
     "data": {
      "text/plain": [
       "array([10, 20, 30, 40, 50])"
      ]
     },
     "execution_count": 1,
     "metadata": {},
     "output_type": "execute_result"
    }
   ],
   "source": [
    "# Creating a single dimensional array\n",
    "# To do so first we have to import NumPy Library\n",
    "import numpy as np\n",
    "\n",
    "# Thus created a 1D Array\n",
    "n1 = np.array([10, 20, 30, 40, 50])\n",
    "\n",
    "# Printing the array in the output\n",
    "n1"
   ]
  },
  {
   "cell_type": "markdown",
   "id": "0d96e9b7",
   "metadata": {},
   "source": [
    "### 2. Multi-Dimensional Array "
   ]
  },
  {
   "cell_type": "code",
   "execution_count": 3,
   "id": "50bb2ce8",
   "metadata": {},
   "outputs": [
    {
     "data": {
      "text/plain": [
       "array([[10, 20, 30, 40, 50],\n",
       "       [40, 50, 60, 70, 80]])"
      ]
     },
     "execution_count": 3,
     "metadata": {},
     "output_type": "execute_result"
    }
   ],
   "source": [
    "# Creating a Multi dimensional array\n",
    "# To do so first we have to import NumPy Library\n",
    "import numpy as np\n",
    "\n",
    "# Thus created a multi dimensional array\n",
    "n2 = np.array([[10, 20, 30, 40, 50], [40, 50, 60, 70, 80]])\n",
    "\n",
    "# Printing the array in the output\n",
    "n2"
   ]
  },
  {
   "cell_type": "code",
   "execution_count": 4,
   "id": "297be29b",
   "metadata": {},
   "outputs": [
    {
     "data": {
      "text/plain": [
       "numpy.ndarray"
      ]
     },
     "execution_count": 4,
     "metadata": {},
     "output_type": "execute_result"
    }
   ],
   "source": [
    "# Check the type of the n1\n",
    "type(n1)"
   ]
  },
  {
   "cell_type": "code",
   "execution_count": 5,
   "id": "396bc442",
   "metadata": {},
   "outputs": [
    {
     "data": {
      "text/plain": [
       "numpy.ndarray"
      ]
     },
     "execution_count": 5,
     "metadata": {},
     "output_type": "execute_result"
    }
   ],
   "source": [
    "# Check the type of the n2\n",
    "type(n2)"
   ]
  },
  {
   "cell_type": "markdown",
   "id": "16326f53",
   "metadata": {},
   "source": [
    "# Initializing NumPy arrays with Zeros\n",
    "* ```Invoke zeros method with dot operator.```\n",
    "* ```Syntax : np.zeros((5,5))```"
   ]
  },
  {
   "cell_type": "code",
   "execution_count": 8,
   "id": "f823321c",
   "metadata": {},
   "outputs": [
    {
     "data": {
      "text/plain": [
       "array([[0., 0., 0., 0., 0.],\n",
       "       [0., 0., 0., 0., 0.],\n",
       "       [0., 0., 0., 0., 0.],\n",
       "       [0., 0., 0., 0., 0.],\n",
       "       [0., 0., 0., 0., 0.]])"
      ]
     },
     "execution_count": 8,
     "metadata": {},
     "output_type": "execute_result"
    }
   ],
   "source": [
    "import numpy as np\n",
    "\n",
    "n3 = np.zeros((5,5))\n",
    "n3"
   ]
  },
  {
   "cell_type": "code",
   "execution_count": 9,
   "id": "77d36af0",
   "metadata": {},
   "outputs": [
    {
     "data": {
      "text/plain": [
       "numpy.ndarray"
      ]
     },
     "execution_count": 9,
     "metadata": {},
     "output_type": "execute_result"
    }
   ],
   "source": [
    "type(n3)"
   ]
  },
  {
   "cell_type": "code",
   "execution_count": 8,
   "id": "9f79c854",
   "metadata": {},
   "outputs": [
    {
     "data": {
      "text/plain": [
       "array([[0., 0., 0., 0., 0.],\n",
       "       [0., 0., 0., 0., 0.],\n",
       "       [0., 0., 0., 0., 0.],\n",
       "       [0., 0., 0., 0., 0.],\n",
       "       [0., 0., 0., 0., 0.]])"
      ]
     },
     "execution_count": 8,
     "metadata": {},
     "output_type": "execute_result"
    }
   ],
   "source": [
    "import numpy as np\n",
    "\n",
    "n3 = np.zeros((5,5))\n",
    "n3"
   ]
  },
  {
   "cell_type": "markdown",
   "id": "d6c85d74",
   "metadata": {},
   "source": [
    "# Initializing NumPy arrays with Same number\n",
    "* ```Invoke full method with dot operator.```\n",
    "* ```Syntax : np.full((5,5),(10))```"
   ]
  },
  {
   "cell_type": "code",
   "execution_count": 11,
   "id": "474d23cc",
   "metadata": {},
   "outputs": [
    {
     "data": {
      "text/plain": [
       "array([[108, 108, 108, 108, 108],\n",
       "       [108, 108, 108, 108, 108],\n",
       "       [108, 108, 108, 108, 108],\n",
       "       [108, 108, 108, 108, 108],\n",
       "       [108, 108, 108, 108, 108]])"
      ]
     },
     "execution_count": 11,
     "metadata": {},
     "output_type": "execute_result"
    }
   ],
   "source": [
    "import numpy as np\n",
    "n4 = np.full((5, 5), (108))\n",
    "n4"
   ]
  },
  {
   "cell_type": "markdown",
   "id": "1dd0852e",
   "metadata": {},
   "source": [
    "# Initializing NumPy within a range \n",
    "* ``` Syntax : np.arange(10, 20) It prints the data from 10 to 19```\n",
    "* ``` Syntax : np.arange(10, 50, 5) It prints the data in steps of 5.```"
   ]
  },
  {
   "cell_type": "code",
   "execution_count": 12,
   "id": "f72477ae",
   "metadata": {},
   "outputs": [
    {
     "data": {
      "text/plain": [
       "array([10, 11, 12, 13, 14, 15, 16, 17, 18, 19, 20, 21, 22, 23, 24, 25, 26,\n",
       "       27, 28, 29])"
      ]
     },
     "execution_count": 12,
     "metadata": {},
     "output_type": "execute_result"
    }
   ],
   "source": [
    "import numpy as np\n",
    "n5 = np.arange(10, 30)\n",
    "n5"
   ]
  },
  {
   "cell_type": "code",
   "execution_count": 13,
   "id": "873415f7",
   "metadata": {},
   "outputs": [
    {
     "data": {
      "text/plain": [
       "array([10, 15, 20, 25, 30, 35, 40, 45])"
      ]
     },
     "execution_count": 13,
     "metadata": {},
     "output_type": "execute_result"
    }
   ],
   "source": [
    "import numpy as np\n",
    "n6 = np.arange(10, 50, 5)\n",
    "n6"
   ]
  },
  {
   "cell_type": "markdown",
   "id": "0229a78a",
   "metadata": {},
   "source": [
    "# Print random numbers \n",
    "* ``` Syntax : np.random.randint(10, 100, 6).```\n",
    "* ``` This prints a random set of data from 10 to 100. Number of elements in a set would be 6.```"
   ]
  },
  {
   "cell_type": "code",
   "execution_count": 14,
   "id": "7ccc07b0",
   "metadata": {},
   "outputs": [
    {
     "data": {
      "text/plain": [
       "array([14, 15, 30, 25, 56])"
      ]
     },
     "execution_count": 14,
     "metadata": {},
     "output_type": "execute_result"
    }
   ],
   "source": [
    "import numpy as np\n",
    "n7 = np.random.randint(10, 100, 5)\n",
    "n7"
   ]
  },
  {
   "cell_type": "markdown",
   "id": "02f1e71d",
   "metadata": {},
   "source": [
    "# Change the shape of the array"
   ]
  },
  {
   "cell_type": "code",
   "execution_count": 15,
   "id": "8062994f",
   "metadata": {},
   "outputs": [
    {
     "data": {
      "text/plain": [
       "array([[1, 2, 3],\n",
       "       [4, 5, 6]])"
      ]
     },
     "execution_count": 15,
     "metadata": {},
     "output_type": "execute_result"
    }
   ],
   "source": [
    "import numpy as np\n",
    "n8 = np.array([[1,2,3],[4,5,6]])\n",
    "n8"
   ]
  },
  {
   "cell_type": "code",
   "execution_count": 17,
   "id": "7e99bc81",
   "metadata": {},
   "outputs": [
    {
     "data": {
      "text/plain": [
       "(2, 3)"
      ]
     },
     "execution_count": 17,
     "metadata": {},
     "output_type": "execute_result"
    }
   ],
   "source": [
    "# Now there are 2 rows and 3 columns\n",
    "# So the shape is (2,3)\n",
    "n8.shape"
   ]
  },
  {
   "cell_type": "code",
   "execution_count": 18,
   "id": "846d3ec9",
   "metadata": {},
   "outputs": [],
   "source": [
    "# Now we change it to (3,2)\n",
    "n8.shape = (3,2)"
   ]
  },
  {
   "cell_type": "code",
   "execution_count": 19,
   "id": "8fc4d5b5",
   "metadata": {},
   "outputs": [
    {
     "data": {
      "text/plain": [
       "array([[1, 2],\n",
       "       [3, 4],\n",
       "       [5, 6]])"
      ]
     },
     "execution_count": 19,
     "metadata": {},
     "output_type": "execute_result"
    }
   ],
   "source": [
    "n8"
   ]
  },
  {
   "cell_type": "markdown",
   "id": "b91db46e",
   "metadata": {},
   "source": [
    "# Joining NumPy Arrays\n",
    "* ``` 1. Vertical Stack  = vstack( )```\n",
    "* ``` 2. Horizontal Stack = hstack( )```\n",
    "* ``` 3. Column Stack = column_stack( )```"
   ]
  },
  {
   "cell_type": "markdown",
   "id": "3e7f36a6",
   "metadata": {},
   "source": [
    "## 1. Vertical Stack\n",
    "* ``` We import vstack using dot operator.```"
   ]
  },
  {
   "cell_type": "code",
   "execution_count": 28,
   "id": "e03abc3d",
   "metadata": {},
   "outputs": [],
   "source": [
    "import numpy as np\n",
    "n1 = np.array([10,20,30])\n",
    "n2 = np.array([40,50,60])"
   ]
  },
  {
   "cell_type": "code",
   "execution_count": 29,
   "id": "6996f826",
   "metadata": {},
   "outputs": [
    {
     "data": {
      "text/plain": [
       "array([[10, 20, 30],\n",
       "       [40, 50, 60]])"
      ]
     },
     "execution_count": 29,
     "metadata": {},
     "output_type": "execute_result"
    }
   ],
   "source": [
    "np.vstack((n1, n2))"
   ]
  },
  {
   "cell_type": "markdown",
   "id": "4fa89f4a",
   "metadata": {},
   "source": [
    "## 2. Horizontal Stack\n",
    "* ``` We import hstack using dot operator. ```"
   ]
  },
  {
   "cell_type": "code",
   "execution_count": 30,
   "id": "3a7ee960",
   "metadata": {},
   "outputs": [
    {
     "data": {
      "text/plain": [
       "array([10, 20, 30, 40, 50, 60])"
      ]
     },
     "execution_count": 30,
     "metadata": {},
     "output_type": "execute_result"
    }
   ],
   "source": [
    "np.hstack((n1, n2))"
   ]
  },
  {
   "cell_type": "markdown",
   "id": "20d0344e",
   "metadata": {},
   "source": [
    "## Column Stack\n",
    "* ``` We import column_stack using dot operator```"
   ]
  },
  {
   "cell_type": "code",
   "execution_count": null,
   "id": "f55bc9c5",
   "metadata": {},
   "outputs": [],
   "source": []
  },
  {
   "cell_type": "code",
   "execution_count": 32,
   "id": "3e09e6b1",
   "metadata": {},
   "outputs": [
    {
     "data": {
      "text/plain": [
       "array([[10, 40],\n",
       "       [20, 50],\n",
       "       [30, 60]])"
      ]
     },
     "execution_count": 32,
     "metadata": {},
     "output_type": "execute_result"
    }
   ],
   "source": [
    "np.column_stack((n1, n2))"
   ]
  },
  {
   "cell_type": "code",
   "execution_count": null,
   "id": "bd7b77ad",
   "metadata": {},
   "outputs": [],
   "source": []
  },
  {
   "cell_type": "markdown",
   "id": "c4ae82f7",
   "metadata": {},
   "source": [
    "# NumPy  Intersection and Difference"
   ]
  },
  {
   "cell_type": "markdown",
   "id": "72dfa60b",
   "metadata": {},
   "source": [
    "## 1. To find the common elements in two 1D arrays we use a function called ``intersect1d(n1, n2)``"
   ]
  },
  {
   "cell_type": "code",
   "execution_count": null,
   "id": "578393bd",
   "metadata": {},
   "outputs": [],
   "source": []
  },
  {
   "cell_type": "code",
   "execution_count": 41,
   "id": "7bdf3606",
   "metadata": {},
   "outputs": [],
   "source": [
    "import numpy as np\n",
    "n1 = np.array([10, 20, 30, 40, 50, 80, 90, 100])\n",
    "n2 = np.array([20, 30, 40, 50 , 60 , 70])"
   ]
  },
  {
   "cell_type": "code",
   "execution_count": 42,
   "id": "22f60101",
   "metadata": {},
   "outputs": [
    {
     "data": {
      "text/plain": [
       "array([20, 30, 40, 50])"
      ]
     },
     "execution_count": 42,
     "metadata": {},
     "output_type": "execute_result"
    }
   ],
   "source": [
    "# Use intersect1d function\n",
    "# It gives the common elements in both the arrays\n",
    "np.intersect1d(n1, n2)"
   ]
  },
  {
   "cell_type": "markdown",
   "id": "aa065d39",
   "metadata": {},
   "source": [
    "## 2. To get the elements of n1 only removing the lements of n2 we use a function called ```setdiff1d(n1, n2)```"
   ]
  },
  {
   "cell_type": "code",
   "execution_count": 43,
   "id": "5a43d5fa",
   "metadata": {},
   "outputs": [
    {
     "data": {
      "text/plain": [
       "array([ 10,  80,  90, 100])"
      ]
     },
     "execution_count": 43,
     "metadata": {},
     "output_type": "execute_result"
    }
   ],
   "source": [
    "np.setdiff1d(n1, n2)"
   ]
  },
  {
   "cell_type": "code",
   "execution_count": 44,
   "id": "36967f07",
   "metadata": {},
   "outputs": [
    {
     "data": {
      "text/plain": [
       "array([60, 70])"
      ]
     },
     "execution_count": 44,
     "metadata": {},
     "output_type": "execute_result"
    }
   ],
   "source": [
    "np.setdiff1d(n2, n1)"
   ]
  },
  {
   "cell_type": "markdown",
   "id": "72bc2378",
   "metadata": {},
   "source": [
    "# Sum of two NumPy Arrays"
   ]
  },
  {
   "cell_type": "code",
   "execution_count": 46,
   "id": "bf45f878",
   "metadata": {},
   "outputs": [
    {
     "data": {
      "text/plain": [
       "210"
      ]
     },
     "execution_count": 46,
     "metadata": {},
     "output_type": "execute_result"
    }
   ],
   "source": [
    "import numpy as np\n",
    "n1 = np.array([10, 20, 30])\n",
    "n2 = np.array([40, 50, 60])\n",
    "\n",
    "np.sum([n1, n2])"
   ]
  },
  {
   "cell_type": "markdown",
   "id": "94e3a29a",
   "metadata": {},
   "source": [
    "## To set the axis values \n",
    "* ``` If axis value is set to zero then it adds up the vertical values of n1 nd n2.```\n",
    "* ``` If axis value is set to one then it first adds up the horizontal values of n1 and secondly adds       up the horizontal values of n2 and the result would be [sum of n1,  sum of n2] ```\n",
    "* ``` If axis value is set to 2 then it displays the error stating that it is out of bound. ```\n"
   ]
  },
  {
   "cell_type": "code",
   "execution_count": 47,
   "id": "df7d6dc8",
   "metadata": {},
   "outputs": [
    {
     "data": {
      "text/plain": [
       "array([50, 70, 90])"
      ]
     },
     "execution_count": 47,
     "metadata": {},
     "output_type": "execute_result"
    }
   ],
   "source": [
    "np.sum([n1, n2], axis=0)"
   ]
  },
  {
   "cell_type": "code",
   "execution_count": null,
   "id": "45c51d60",
   "metadata": {},
   "outputs": [],
   "source": []
  },
  {
   "cell_type": "code",
   "execution_count": 48,
   "id": "3f33fece",
   "metadata": {},
   "outputs": [
    {
     "data": {
      "text/plain": [
       "array([ 60, 150])"
      ]
     },
     "execution_count": 48,
     "metadata": {},
     "output_type": "execute_result"
    }
   ],
   "source": [
    "np.sum([n1, n2], axis=1)"
   ]
  },
  {
   "cell_type": "code",
   "execution_count": 49,
   "id": "4a13f5ac",
   "metadata": {},
   "outputs": [
    {
     "ename": "AxisError",
     "evalue": "axis 2 is out of bounds for array of dimension 2",
     "output_type": "error",
     "traceback": [
      "\u001b[1;31m---------------------------------------------------------------------------\u001b[0m",
      "\u001b[1;31mAxisError\u001b[0m                                 Traceback (most recent call last)",
      "\u001b[1;32m~\\AppData\\Local\\Temp\\ipykernel_64820\\1263246788.py\u001b[0m in \u001b[0;36m<module>\u001b[1;34m\u001b[0m\n\u001b[1;32m----> 1\u001b[1;33m \u001b[0mnp\u001b[0m\u001b[1;33m.\u001b[0m\u001b[0msum\u001b[0m\u001b[1;33m(\u001b[0m\u001b[1;33m[\u001b[0m\u001b[0mn1\u001b[0m\u001b[1;33m,\u001b[0m \u001b[0mn2\u001b[0m\u001b[1;33m]\u001b[0m\u001b[1;33m,\u001b[0m \u001b[0maxis\u001b[0m\u001b[1;33m=\u001b[0m\u001b[1;36m2\u001b[0m\u001b[1;33m)\u001b[0m\u001b[1;33m\u001b[0m\u001b[1;33m\u001b[0m\u001b[0m\n\u001b[0m",
      "\u001b[1;32m<__array_function__ internals>\u001b[0m in \u001b[0;36msum\u001b[1;34m(*args, **kwargs)\u001b[0m\n",
      "\u001b[1;32m~\\anaconda3\\lib\\site-packages\\numpy\\core\\fromnumeric.py\u001b[0m in \u001b[0;36msum\u001b[1;34m(a, axis, dtype, out, keepdims, initial, where)\u001b[0m\n\u001b[0;32m   2257\u001b[0m         \u001b[1;32mreturn\u001b[0m \u001b[0mres\u001b[0m\u001b[1;33m\u001b[0m\u001b[1;33m\u001b[0m\u001b[0m\n\u001b[0;32m   2258\u001b[0m \u001b[1;33m\u001b[0m\u001b[0m\n\u001b[1;32m-> 2259\u001b[1;33m     return _wrapreduction(a, np.add, 'sum', axis, dtype, out, keepdims=keepdims,\n\u001b[0m\u001b[0;32m   2260\u001b[0m                           initial=initial, where=where)\n\u001b[0;32m   2261\u001b[0m \u001b[1;33m\u001b[0m\u001b[0m\n",
      "\u001b[1;32m~\\anaconda3\\lib\\site-packages\\numpy\\core\\fromnumeric.py\u001b[0m in \u001b[0;36m_wrapreduction\u001b[1;34m(obj, ufunc, method, axis, dtype, out, **kwargs)\u001b[0m\n\u001b[0;32m     84\u001b[0m                 \u001b[1;32mreturn\u001b[0m \u001b[0mreduction\u001b[0m\u001b[1;33m(\u001b[0m\u001b[0maxis\u001b[0m\u001b[1;33m=\u001b[0m\u001b[0maxis\u001b[0m\u001b[1;33m,\u001b[0m \u001b[0mout\u001b[0m\u001b[1;33m=\u001b[0m\u001b[0mout\u001b[0m\u001b[1;33m,\u001b[0m \u001b[1;33m**\u001b[0m\u001b[0mpasskwargs\u001b[0m\u001b[1;33m)\u001b[0m\u001b[1;33m\u001b[0m\u001b[1;33m\u001b[0m\u001b[0m\n\u001b[0;32m     85\u001b[0m \u001b[1;33m\u001b[0m\u001b[0m\n\u001b[1;32m---> 86\u001b[1;33m     \u001b[1;32mreturn\u001b[0m \u001b[0mufunc\u001b[0m\u001b[1;33m.\u001b[0m\u001b[0mreduce\u001b[0m\u001b[1;33m(\u001b[0m\u001b[0mobj\u001b[0m\u001b[1;33m,\u001b[0m \u001b[0maxis\u001b[0m\u001b[1;33m,\u001b[0m \u001b[0mdtype\u001b[0m\u001b[1;33m,\u001b[0m \u001b[0mout\u001b[0m\u001b[1;33m,\u001b[0m \u001b[1;33m**\u001b[0m\u001b[0mpasskwargs\u001b[0m\u001b[1;33m)\u001b[0m\u001b[1;33m\u001b[0m\u001b[1;33m\u001b[0m\u001b[0m\n\u001b[0m\u001b[0;32m     87\u001b[0m \u001b[1;33m\u001b[0m\u001b[0m\n\u001b[0;32m     88\u001b[0m \u001b[1;33m\u001b[0m\u001b[0m\n",
      "\u001b[1;31mAxisError\u001b[0m: axis 2 is out of bounds for array of dimension 2"
     ]
    }
   ],
   "source": [
    "np.sum([n1, n2], axis=2)"
   ]
  },
  {
   "cell_type": "markdown",
   "id": "99446652",
   "metadata": {},
   "source": [
    "# NumPy Array Basic arithmetic operations"
   ]
  },
  {
   "cell_type": "markdown",
   "id": "7e5a68a9",
   "metadata": {},
   "source": [
    "## 1. Adding all elements in the array "
   ]
  },
  {
   "cell_type": "code",
   "execution_count": 50,
   "id": "c7995266",
   "metadata": {},
   "outputs": [
    {
     "data": {
      "text/plain": [
       "array([10, 20, 30])"
      ]
     },
     "execution_count": 50,
     "metadata": {},
     "output_type": "execute_result"
    }
   ],
   "source": [
    "n1"
   ]
  },
  {
   "cell_type": "code",
   "execution_count": 51,
   "id": "3693ae47",
   "metadata": {},
   "outputs": [
    {
     "data": {
      "text/plain": [
       "array([40, 50, 60])"
      ]
     },
     "execution_count": 51,
     "metadata": {},
     "output_type": "execute_result"
    }
   ],
   "source": [
    "n2"
   ]
  },
  {
   "cell_type": "code",
   "execution_count": 53,
   "id": "61f284e7",
   "metadata": {},
   "outputs": [
    {
     "data": {
      "text/plain": [
       "array([110, 120, 130])"
      ]
     },
     "execution_count": 53,
     "metadata": {},
     "output_type": "execute_result"
    }
   ],
   "source": [
    "n1 + 100"
   ]
  },
  {
   "cell_type": "code",
   "execution_count": 54,
   "id": "d4bd9ce8",
   "metadata": {},
   "outputs": [
    {
     "data": {
      "text/plain": [
       "array([240, 250, 260])"
      ]
     },
     "execution_count": 54,
     "metadata": {},
     "output_type": "execute_result"
    }
   ],
   "source": [
    "n2 + 200"
   ]
  },
  {
   "cell_type": "markdown",
   "id": "dbab24f8",
   "metadata": {},
   "source": [
    "## 2. Subtracting all elements in the array "
   ]
  },
  {
   "cell_type": "code",
   "execution_count": 55,
   "id": "4cf53b4b",
   "metadata": {},
   "outputs": [
    {
     "data": {
      "text/plain": [
       "array([ 9, 19, 29])"
      ]
     },
     "execution_count": 55,
     "metadata": {},
     "output_type": "execute_result"
    }
   ],
   "source": [
    "n1 - 1"
   ]
  },
  {
   "cell_type": "code",
   "execution_count": 56,
   "id": "0b02b831",
   "metadata": {},
   "outputs": [
    {
     "data": {
      "text/plain": [
       "array([39, 49, 59])"
      ]
     },
     "execution_count": 56,
     "metadata": {},
     "output_type": "execute_result"
    }
   ],
   "source": [
    "n2 - 1"
   ]
  },
  {
   "cell_type": "markdown",
   "id": "f1b700b8",
   "metadata": {},
   "source": [
    "## 3. Multiplying all elements in the array "
   ]
  },
  {
   "cell_type": "code",
   "execution_count": 57,
   "id": "a44ae00b",
   "metadata": {},
   "outputs": [
    {
     "data": {
      "text/plain": [
       "array([100, 200, 300])"
      ]
     },
     "execution_count": 57,
     "metadata": {},
     "output_type": "execute_result"
    }
   ],
   "source": [
    "n1 * 10"
   ]
  },
  {
   "cell_type": "code",
   "execution_count": 58,
   "id": "7d89b7b7",
   "metadata": {},
   "outputs": [
    {
     "data": {
      "text/plain": [
       "array([ 800, 1000, 1200])"
      ]
     },
     "execution_count": 58,
     "metadata": {},
     "output_type": "execute_result"
    }
   ],
   "source": [
    "n2 * 20"
   ]
  },
  {
   "cell_type": "markdown",
   "id": "2aaa24ac",
   "metadata": {},
   "source": [
    "## 4. Dividing all elements in the array "
   ]
  },
  {
   "cell_type": "code",
   "execution_count": 59,
   "id": "a26945e9",
   "metadata": {},
   "outputs": [
    {
     "data": {
      "text/plain": [
       "array([ 5., 10., 15.])"
      ]
     },
     "execution_count": 59,
     "metadata": {},
     "output_type": "execute_result"
    }
   ],
   "source": [
    "n1 / 2"
   ]
  },
  {
   "cell_type": "code",
   "execution_count": 60,
   "id": "67afcb86",
   "metadata": {},
   "outputs": [
    {
     "data": {
      "text/plain": [
       "array([13.33333333, 16.66666667, 20.        ])"
      ]
     },
     "execution_count": 60,
     "metadata": {},
     "output_type": "execute_result"
    }
   ],
   "source": [
    "n2 / 3"
   ]
  },
  {
   "cell_type": "markdown",
   "id": "dcb23e05",
   "metadata": {},
   "source": [
    "# Some of the mathematical functions in NumPy \n",
    "\n",
    "## ``` 1. Mean```\n",
    "## ```2. Median```\n",
    "## ``` 3. Standard Deviation```"
   ]
  },
  {
   "cell_type": "code",
   "execution_count": 64,
   "id": "2d997e45",
   "metadata": {},
   "outputs": [
    {
     "data": {
      "text/plain": [
       "37.5"
      ]
     },
     "execution_count": 64,
     "metadata": {},
     "output_type": "execute_result"
    }
   ],
   "source": [
    "# Mean of the array n1\n",
    "\n",
    "import numpy as np\n",
    "n1 = np.array([10, 20, 30, 40, 50, 75])\n",
    "np.mean(n1)"
   ]
  },
  {
   "cell_type": "code",
   "execution_count": 65,
   "id": "4f2f1d14",
   "metadata": {},
   "outputs": [
    {
     "data": {
      "text/plain": [
       "35.0"
      ]
     },
     "execution_count": 65,
     "metadata": {},
     "output_type": "execute_result"
    }
   ],
   "source": [
    "# Median of the array n1\n",
    "\n",
    "np.median(n1)"
   ]
  },
  {
   "cell_type": "code",
   "execution_count": 67,
   "id": "ab403db8",
   "metadata": {},
   "outputs": [
    {
     "data": {
      "text/plain": [
       "21.16404183200049"
      ]
     },
     "execution_count": 67,
     "metadata": {},
     "output_type": "execute_result"
    }
   ],
   "source": [
    "# Standard deviation of the array n1\n",
    "\n",
    "np.std(n1)"
   ]
  },
  {
   "cell_type": "markdown",
   "id": "47dfdb6b",
   "metadata": {},
   "source": [
    "# NumPy SAVE and LOAD array data\n",
    "* ``` Syntax for save is np.save('name_user_defined', n1) ```\n",
    "* ``` Syntax for load is np.load('name_user_defined.npy')```"
   ]
  },
  {
   "cell_type": "code",
   "execution_count": 68,
   "id": "5887339c",
   "metadata": {},
   "outputs": [],
   "source": [
    "# To save the array data\n",
    "import numpy as np\n",
    "n1 = np.array([10, 20, 30, 40, 50])\n",
    "np.save('numpy_array', n1)"
   ]
  },
  {
   "cell_type": "code",
   "execution_count": 69,
   "id": "7d6b8d2f",
   "metadata": {},
   "outputs": [
    {
     "data": {
      "text/plain": [
       "array([10, 20, 30, 40, 50])"
      ]
     },
     "execution_count": 69,
     "metadata": {},
     "output_type": "execute_result"
    }
   ],
   "source": [
    "# Now loading the NumPy array to a new array n2\n",
    "n2 = np.load('numpy_array.npy')\n",
    "n2"
   ]
  }
 ],
 "metadata": {
  "kernelspec": {
   "display_name": "Python 3 (ipykernel)",
   "language": "python",
   "name": "python3"
  },
  "language_info": {
   "codemirror_mode": {
    "name": "ipython",
    "version": 3
   },
   "file_extension": ".py",
   "mimetype": "text/x-python",
   "name": "python",
   "nbconvert_exporter": "python",
   "pygments_lexer": "ipython3",
   "version": "3.9.13"
  }
 },
 "nbformat": 4,
 "nbformat_minor": 5
}
