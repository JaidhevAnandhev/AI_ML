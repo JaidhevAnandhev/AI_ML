{
 "cells": [
  {
   "cell_type": "markdown",
   "id": "67b2c97a",
   "metadata": {},
   "source": [
    "# Pandas\n",
    "* ``` Pandas stands for Panel data and is the core library for data manipulation and data analysis```\n",
    "    * ```It consists of single and multi dimensional data structures and data manipulation ```\n",
    "    * ``` Single dimensional data object is known as ~~~Series Objects~~~ ```\n",
    "    * ``` Multi Dimensional data object is known as ~~~Data-Frame~~~ ```"
   ]
  },
  {
   "cell_type": "markdown",
   "id": "40144f77",
   "metadata": {},
   "source": [
    "# Here we deal with 1D Array"
   ]
  },
  {
   "cell_type": "code",
   "execution_count": 1,
   "id": "e5ad3304",
   "metadata": {},
   "outputs": [],
   "source": [
    "# To use Pandas Library first we have to import Pandas Library\n",
    "import pandas as pd"
   ]
  },
  {
   "cell_type": "code",
   "execution_count": 2,
   "id": "747a6856",
   "metadata": {},
   "outputs": [],
   "source": [
    "arr1 = [1,2,3,4,5]"
   ]
  },
  {
   "cell_type": "code",
   "execution_count": 3,
   "id": "7ed79efd",
   "metadata": {},
   "outputs": [],
   "source": [
    "# Now we are going to crate a Series object\n",
    "# It prints the array elements and also printing it's index beside it\n",
    "\n",
    "s1 = pd.Series(arr1)"
   ]
  },
  {
   "attachments": {
    "Picture2-2.png": {
     "image/png": "[encoded data removed]"
    }
   },
   "cell_type": "markdown",
   "id": "5c014f12",
   "metadata": {},
   "source": [
    "This is How Output looks like\n",
    "![Picture2-2.png](attachment:Picture2-2.png)"
   ]
  },
  {
   "cell_type": "code",
   "execution_count": 6,
   "id": "085b22ff",
   "metadata": {},
   "outputs": [
    {
     "data": {
      "text/plain": [
       "0    1\n",
       "1    2\n",
       "2    3\n",
       "3    4\n",
       "4    5\n",
       "dtype: int64"
      ]
     },
     "execution_count": 6,
     "metadata": {},
     "output_type": "execute_result"
    }
   ],
   "source": [
    "# Now print that Series\n",
    "s1"
   ]
  },
  {
   "cell_type": "code",
   "execution_count": 7,
   "id": "4d9486a7",
   "metadata": {},
   "outputs": [],
   "source": [
    "l1 = ([123,345,678,345])"
   ]
  },
  {
   "cell_type": "code",
   "execution_count": 8,
   "id": "3734af48",
   "metadata": {},
   "outputs": [],
   "source": [
    "s2 = pd.Series(l1)"
   ]
  },
  {
   "cell_type": "code",
   "execution_count": 9,
   "id": "a726eb90",
   "metadata": {},
   "outputs": [
    {
     "data": {
      "text/plain": [
       "0    123\n",
       "1    345\n",
       "2    678\n",
       "3    345\n",
       "dtype: int64"
      ]
     },
     "execution_count": 9,
     "metadata": {},
     "output_type": "execute_result"
    }
   ],
   "source": [
    "s2"
   ]
  },
  {
   "cell_type": "markdown",
   "id": "c533f933",
   "metadata": {},
   "source": [
    "# Index in Pandas list can be User-Defined \n",
    "* ``` Instead of displaying the indices as [0,1,2,3,...]  we can also set the indices as [a,b,c,d,e,...] or by our wish ```"
   ]
  },
  {
   "cell_type": "code",
   "execution_count": 14,
   "id": "6a030e86",
   "metadata": {},
   "outputs": [],
   "source": [
    "s2 = pd.Series([10,20,30,40,50], index = ['a', 'b', 'c', 'd', 'e'])"
   ]
  },
  {
   "cell_type": "code",
   "execution_count": 15,
   "id": "8034d867",
   "metadata": {},
   "outputs": [
    {
     "data": {
      "text/plain": [
       "a    10\n",
       "b    20\n",
       "c    30\n",
       "d    40\n",
       "e    50\n",
       "dtype: int64"
      ]
     },
     "execution_count": 15,
     "metadata": {},
     "output_type": "execute_result"
    }
   ],
   "source": [
    "# We can see that the indices can be user defined using the index attribute\n",
    "# If the count of index value exceed the count of original list then throws out an error\n",
    "s2"
   ]
  },
  {
   "cell_type": "markdown",
   "id": "c346d424",
   "metadata": {},
   "source": [
    "# We can also create a series object from a dictionary\n",
    "* ``` Keys in dictionary are taken as index in Pandas Series. ```\n",
    "* ``` Values are taken as values of Series in an object. ```"
   ]
  },
  {
   "cell_type": "code",
   "execution_count": 17,
   "id": "299d468b",
   "metadata": {},
   "outputs": [
    {
     "data": {
      "text/plain": [
       "apple        100\n",
       "banana       200\n",
       "orange       300\n",
       "pineapple    400\n",
       "mango        500\n",
       "dtype: int64"
      ]
     },
     "execution_count": 17,
     "metadata": {},
     "output_type": "execute_result"
    }
   ],
   "source": [
    "pd.Series({'apple' : 100, 'banana' : 200, 'orange' : 300, 'pineapple' : 400, 'mango' : 500})"
   ]
  },
  {
   "cell_type": "markdown",
   "id": "d777a319",
   "metadata": {},
   "source": [
    "1. We can be able to change the index of each element in a dictionary \n",
    "2. Advantage is that if the number of index is exceeded then the value of the corresponding element would be displayed as  ```NaN```"
   ]
  },
  {
   "cell_type": "code",
   "execution_count": 18,
   "id": "2c3c5674",
   "metadata": {},
   "outputs": [],
   "source": [
    "s3 = pd.Series({'a' : 10, 'b' : 20, 'c' : 30}, index=['b', 'o', 'a', 'c'])"
   ]
  },
  {
   "cell_type": "code",
   "execution_count": 19,
   "id": "bbee4697",
   "metadata": {},
   "outputs": [
    {
     "data": {
      "text/plain": [
       "b    20.0\n",
       "o     NaN\n",
       "a    10.0\n",
       "c    30.0\n",
       "dtype: float64"
      ]
     },
     "execution_count": 19,
     "metadata": {},
     "output_type": "execute_result"
    }
   ],
   "source": [
    "s3"
   ]
  },
  {
   "cell_type": "markdown",
   "id": "7a93c97c",
   "metadata": {},
   "source": [
    "# Extracting a particular element in a series"
   ]
  },
  {
   "cell_type": "code",
   "execution_count": 5,
   "id": "b790ba7a",
   "metadata": {},
   "outputs": [],
   "source": [
    "import pandas as pd\n",
    "s4 = pd.Series([10,21,32,43,54])"
   ]
  },
  {
   "cell_type": "code",
   "execution_count": 6,
   "id": "f722e5d2",
   "metadata": {},
   "outputs": [
    {
     "data": {
      "text/plain": [
       "43"
      ]
     },
     "execution_count": 6,
     "metadata": {},
     "output_type": "execute_result"
    }
   ],
   "source": [
    "#Extracting particular index element\n",
    "s4[3]"
   ]
  },
  {
   "cell_type": "code",
   "execution_count": 7,
   "id": "ff316101",
   "metadata": {},
   "outputs": [
    {
     "data": {
      "text/plain": [
       "0    10\n",
       "1    21\n",
       "2    32\n",
       "dtype: int64"
      ]
     },
     "execution_count": 7,
     "metadata": {},
     "output_type": "execute_result"
    }
   ],
   "source": [
    "#Extracting a particular series of elements from 0 to 3\n",
    "s4[:3]"
   ]
  },
  {
   "cell_type": "code",
   "execution_count": 8,
   "id": "7cf3d66c",
   "metadata": {},
   "outputs": [
    {
     "data": {
      "text/plain": [
       "2    32\n",
       "3    43\n",
       "4    54\n",
       "dtype: int64"
      ]
     },
     "execution_count": 8,
     "metadata": {},
     "output_type": "execute_result"
    }
   ],
   "source": [
    "#Extracting last 3 elements in a series\n",
    "s4[-3:]"
   ]
  },
  {
   "cell_type": "code",
   "execution_count": 10,
   "id": "e5b2a847",
   "metadata": {},
   "outputs": [
    {
     "data": {
      "text/plain": [
       "2    32\n",
       "3    43\n",
       "dtype: int64"
      ]
     },
     "execution_count": 10,
     "metadata": {},
     "output_type": "execute_result"
    }
   ],
   "source": [
    "s4[-3:-1]"
   ]
  },
  {
   "cell_type": "code",
   "execution_count": 13,
   "id": "7f6ebd34",
   "metadata": {},
   "outputs": [
    {
     "data": {
      "text/plain": [
       "1    21\n",
       "2    32\n",
       "3    43\n",
       "4    54\n",
       "dtype: int64"
      ]
     },
     "execution_count": 13,
     "metadata": {},
     "output_type": "execute_result"
    }
   ],
   "source": [
    "s4[1:5]"
   ]
  },
  {
   "cell_type": "code",
   "execution_count": 14,
   "id": "3c5434cf",
   "metadata": {},
   "outputs": [
    {
     "data": {
      "text/plain": [
       "0    10\n",
       "1    21\n",
       "2    32\n",
       "3    43\n",
       "4    54\n",
       "dtype: int64"
      ]
     },
     "execution_count": 14,
     "metadata": {},
     "output_type": "execute_result"
    }
   ],
   "source": [
    "s4"
   ]
  },
  {
   "cell_type": "markdown",
   "id": "28f64106",
   "metadata": {},
   "source": [
    "###  Do arithmetic operations to all the elements in a series"
   ]
  },
  {
   "cell_type": "code",
   "execution_count": 31,
   "id": "6045af02",
   "metadata": {},
   "outputs": [
    {
     "data": {
      "text/plain": [
       "0    10\n",
       "1    21\n",
       "2    32\n",
       "3    43\n",
       "4    54\n",
       "dtype: int64"
      ]
     },
     "execution_count": 31,
     "metadata": {},
     "output_type": "execute_result"
    }
   ],
   "source": [
    "s4"
   ]
  },
  {
   "cell_type": "code",
   "execution_count": 32,
   "id": "34816b48",
   "metadata": {},
   "outputs": [
    {
     "data": {
      "text/plain": [
       "pandas.core.series.Series"
      ]
     },
     "execution_count": 32,
     "metadata": {},
     "output_type": "execute_result"
    }
   ],
   "source": [
    "type(s4)"
   ]
  },
  {
   "cell_type": "code",
   "execution_count": 33,
   "id": "b32a0ae0",
   "metadata": {},
   "outputs": [
    {
     "data": {
      "text/plain": [
       "0    20\n",
       "1    31\n",
       "2    42\n",
       "3    53\n",
       "4    64\n",
       "dtype: int64"
      ]
     },
     "execution_count": 33,
     "metadata": {},
     "output_type": "execute_result"
    }
   ],
   "source": [
    "s4 + 10"
   ]
  },
  {
   "cell_type": "code",
   "execution_count": 34,
   "id": "7e2f1464",
   "metadata": {},
   "outputs": [],
   "source": [
    "s5 = pd.Series([1,2,3,4,5])"
   ]
  },
  {
   "cell_type": "code",
   "execution_count": 35,
   "id": "14e8a326",
   "metadata": {},
   "outputs": [
    {
     "data": {
      "text/plain": [
       "0    1\n",
       "1    2\n",
       "2    3\n",
       "3    4\n",
       "4    5\n",
       "dtype: int64"
      ]
     },
     "execution_count": 35,
     "metadata": {},
     "output_type": "execute_result"
    }
   ],
   "source": [
    "s5"
   ]
  },
  {
   "cell_type": "code",
   "execution_count": 37,
   "id": "483738f4",
   "metadata": {},
   "outputs": [
    {
     "data": {
      "text/plain": [
       "0    11\n",
       "1    12\n",
       "2    13\n",
       "3    14\n",
       "4    15\n",
       "dtype: int64"
      ]
     },
     "execution_count": 37,
     "metadata": {},
     "output_type": "execute_result"
    }
   ],
   "source": [
    "#ADD\n",
    "s5 + 10"
   ]
  },
  {
   "cell_type": "code",
   "execution_count": 38,
   "id": "6ef612c3",
   "metadata": {},
   "outputs": [
    {
     "data": {
      "text/plain": [
       "0    0\n",
       "1    1\n",
       "2    2\n",
       "3    3\n",
       "4    4\n",
       "dtype: int64"
      ]
     },
     "execution_count": 38,
     "metadata": {},
     "output_type": "execute_result"
    }
   ],
   "source": [
    "# SUBTRACT\n",
    "s5 - 1"
   ]
  },
  {
   "cell_type": "code",
   "execution_count": 39,
   "id": "ad7bbcc9",
   "metadata": {},
   "outputs": [],
   "source": [
    "s6 = pd.Series(s5 + 10)"
   ]
  },
  {
   "cell_type": "code",
   "execution_count": 40,
   "id": "3244c4de",
   "metadata": {},
   "outputs": [
    {
     "data": {
      "text/plain": [
       "0    11\n",
       "1    12\n",
       "2    13\n",
       "3    14\n",
       "4    15\n",
       "dtype: int64"
      ]
     },
     "execution_count": 40,
     "metadata": {},
     "output_type": "execute_result"
    }
   ],
   "source": [
    "s6"
   ]
  },
  {
   "cell_type": "code",
   "execution_count": 41,
   "id": "48acd997",
   "metadata": {},
   "outputs": [
    {
     "data": {
      "text/plain": [
       "0    10\n",
       "1    11\n",
       "2    12\n",
       "3    13\n",
       "4    14\n",
       "dtype: int64"
      ]
     },
     "execution_count": 41,
     "metadata": {},
     "output_type": "execute_result"
    }
   ],
   "source": [
    "# SUBTRACT\n",
    "s6 - 1"
   ]
  },
  {
   "cell_type": "code",
   "execution_count": 43,
   "id": "bd44a29a",
   "metadata": {},
   "outputs": [
    {
     "data": {
      "text/plain": [
       "0    100\n",
       "1    200\n",
       "2    300\n",
       "3    400\n",
       "4    500\n",
       "dtype: int64"
      ]
     },
     "execution_count": 43,
     "metadata": {},
     "output_type": "execute_result"
    }
   ],
   "source": [
    "#MULTIPLY\n",
    "s5 * 100"
   ]
  },
  {
   "cell_type": "code",
   "execution_count": 44,
   "id": "b117e5b8",
   "metadata": {},
   "outputs": [
    {
     "data": {
      "text/plain": [
       "0    0.5\n",
       "1    1.0\n",
       "2    1.5\n",
       "3    2.0\n",
       "4    2.5\n",
       "dtype: float64"
      ]
     },
     "execution_count": 44,
     "metadata": {},
     "output_type": "execute_result"
    }
   ],
   "source": [
    "# DIVIDE\n",
    "s5 / 2"
   ]
  },
  {
   "cell_type": "markdown",
   "id": "9339a7e6",
   "metadata": {},
   "source": [
    "# Add two series and show it's result in a new series"
   ]
  },
  {
   "cell_type": "code",
   "execution_count": 46,
   "id": "e661a11a",
   "metadata": {},
   "outputs": [
    {
     "data": {
      "text/plain": [
       "0    1\n",
       "1    2\n",
       "2    3\n",
       "3    4\n",
       "4    5\n",
       "dtype: int64"
      ]
     },
     "execution_count": 46,
     "metadata": {},
     "output_type": "execute_result"
    }
   ],
   "source": [
    "# Print s5 series\n",
    "s5"
   ]
  },
  {
   "cell_type": "code",
   "execution_count": 47,
   "id": "f858ce3f",
   "metadata": {},
   "outputs": [
    {
     "data": {
      "text/plain": [
       "0    11\n",
       "1    12\n",
       "2    13\n",
       "3    14\n",
       "4    15\n",
       "dtype: int64"
      ]
     },
     "execution_count": 47,
     "metadata": {},
     "output_type": "execute_result"
    }
   ],
   "source": [
    "# Print s6 series\n",
    "s6"
   ]
  },
  {
   "cell_type": "code",
   "execution_count": 48,
   "id": "2113dce9",
   "metadata": {},
   "outputs": [
    {
     "data": {
      "text/plain": [
       "(0    1\n",
       " 1    2\n",
       " 2    3\n",
       " 3    4\n",
       " 4    5\n",
       " dtype: int64,\n",
       " 0    11\n",
       " 1    12\n",
       " 2    13\n",
       " 3    14\n",
       " 4    15\n",
       " dtype: int64)"
      ]
     },
     "execution_count": 48,
     "metadata": {},
     "output_type": "execute_result"
    }
   ],
   "source": [
    "#Print two series simultaneously\n",
    "s5, s6"
   ]
  },
  {
   "cell_type": "code",
   "execution_count": 49,
   "id": "c326430d",
   "metadata": {},
   "outputs": [
    {
     "data": {
      "text/plain": [
       "0    12\n",
       "1    14\n",
       "2    16\n",
       "3    18\n",
       "4    20\n",
       "dtype: int64"
      ]
     },
     "execution_count": 49,
     "metadata": {},
     "output_type": "execute_result"
    }
   ],
   "source": [
    "# Add two series elements\n",
    "s5 + s6"
   ]
  },
  {
   "cell_type": "code",
   "execution_count": 50,
   "id": "605c4768",
   "metadata": {},
   "outputs": [
    {
     "data": {
      "text/plain": [
       "0    10\n",
       "1    10\n",
       "2    10\n",
       "3    10\n",
       "4    10\n",
       "dtype: int64"
      ]
     },
     "execution_count": 50,
     "metadata": {},
     "output_type": "execute_result"
    }
   ],
   "source": [
    "# Subtract Two series\n",
    "s6 - s5"
   ]
  },
  {
   "cell_type": "code",
   "execution_count": 51,
   "id": "fa9072a5",
   "metadata": {},
   "outputs": [
    {
     "data": {
      "text/plain": [
       "0    11\n",
       "1    24\n",
       "2    39\n",
       "3    56\n",
       "4    75\n",
       "dtype: int64"
      ]
     },
     "execution_count": 51,
     "metadata": {},
     "output_type": "execute_result"
    }
   ],
   "source": [
    "# Multiply Two Series\n",
    "s5 * s6"
   ]
  },
  {
   "cell_type": "code",
   "execution_count": 52,
   "id": "40986db2",
   "metadata": {},
   "outputs": [
    {
     "data": {
      "text/plain": [
       "0    11.000000\n",
       "1     6.000000\n",
       "2     4.333333\n",
       "3     3.500000\n",
       "4     3.000000\n",
       "dtype: float64"
      ]
     },
     "execution_count": 52,
     "metadata": {},
     "output_type": "execute_result"
    }
   ],
   "source": [
    "# Divide two series\n",
    "s6 / s5"
   ]
  }
 ],
 "metadata": {
  "kernelspec": {
   "display_name": "Python 3 (ipykernel)",
   "language": "python",
   "name": "python3"
  },
  "language_info": {
   "codemirror_mode": {
    "name": "ipython",
    "version": 3
   },
   "file_extension": ".py",
   "mimetype": "text/x-python",
   "name": "python",
   "nbconvert_exporter": "python",
   "pygments_lexer": "ipython3",
   "version": "3.9.13"
  }
 },
 "nbformat": 4,
 "nbformat_minor": 5
}
