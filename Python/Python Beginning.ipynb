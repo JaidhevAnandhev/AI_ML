{
 "cells": [
  {
   "cell_type": "markdown",
   "id": "d5c9d9dc",
   "metadata": {},
   "source": [
    "# Hello World Output"
   ]
  },
  {
   "cell_type": "code",
   "execution_count": 1,
   "id": "50938d83",
   "metadata": {
    "scrolled": true
   },
   "outputs": [
    {
     "name": "stdout",
     "output_type": "stream",
     "text": [
      "Hello World!\n"
     ]
    }
   ],
   "source": [
    "print(\"Hello World!\")"
   ]
  },
  {
   "cell_type": "markdown",
   "id": "54b938d5",
   "metadata": {},
   "source": [
    "# Variables in python"
   ]
  },
  {
   "cell_type": "code",
   "execution_count": 49,
   "id": "63a03cbe",
   "metadata": {},
   "outputs": [
    {
     "data": {
      "text/plain": [
       "108"
      ]
     },
     "execution_count": 49,
     "metadata": {},
     "output_type": "execute_result"
    }
   ],
   "source": [
    "var = 108\n",
    "var"
   ]
  },
  {
   "cell_type": "code",
   "execution_count": 50,
   "id": "01030f46",
   "metadata": {
    "scrolled": true
   },
   "outputs": [
    {
     "data": {
      "text/plain": [
       "int"
      ]
     },
     "execution_count": 50,
     "metadata": {},
     "output_type": "execute_result"
    }
   ],
   "source": [
    "type(var)"
   ]
  },
  {
   "cell_type": "code",
   "execution_count": 7,
   "id": "4b15d460",
   "metadata": {},
   "outputs": [
    {
     "data": {
      "text/plain": [
       "3.141414"
      ]
     },
     "execution_count": 7,
     "metadata": {},
     "output_type": "execute_result"
    }
   ],
   "source": [
    "var1 = 3.141414\n",
    "var1"
   ]
  },
  {
   "cell_type": "code",
   "execution_count": 9,
   "id": "91baaa45",
   "metadata": {},
   "outputs": [
    {
     "data": {
      "text/plain": [
       "float"
      ]
     },
     "execution_count": 9,
     "metadata": {},
     "output_type": "execute_result"
    }
   ],
   "source": [
    "type(var1)"
   ]
  },
  {
   "cell_type": "code",
   "execution_count": 13,
   "id": "126de0ef",
   "metadata": {},
   "outputs": [
    {
     "data": {
      "text/plain": [
       "108"
      ]
     },
     "execution_count": 13,
     "metadata": {},
     "output_type": "execute_result"
    }
   ],
   "source": [
    "var\n"
   ]
  },
  {
   "cell_type": "code",
   "execution_count": 14,
   "id": "251844b6",
   "metadata": {},
   "outputs": [
    {
     "data": {
      "text/plain": [
       "23423.23432"
      ]
     },
     "execution_count": 14,
     "metadata": {},
     "output_type": "execute_result"
    }
   ],
   "source": [
    "var = 23423.23432\n",
    "var\n"
   ]
  },
  {
   "cell_type": "code",
   "execution_count": 15,
   "id": "1f269af5",
   "metadata": {},
   "outputs": [
    {
     "data": {
      "text/plain": [
       "float"
      ]
     },
     "execution_count": 15,
     "metadata": {},
     "output_type": "execute_result"
    }
   ],
   "source": [
    "type(var)"
   ]
  },
  {
   "cell_type": "code",
   "execution_count": 16,
   "id": "779b9c1b",
   "metadata": {},
   "outputs": [
    {
     "data": {
      "text/plain": [
       "1234567897"
      ]
     },
     "execution_count": 16,
     "metadata": {},
     "output_type": "execute_result"
    }
   ],
   "source": [
    "var = 1234567897\n",
    "var"
   ]
  },
  {
   "cell_type": "code",
   "execution_count": 19,
   "id": "9848d260",
   "metadata": {},
   "outputs": [
    {
     "data": {
      "text/plain": [
       "int"
      ]
     },
     "execution_count": 19,
     "metadata": {},
     "output_type": "execute_result"
    }
   ],
   "source": [
    "type(var)"
   ]
  },
  {
   "cell_type": "markdown",
   "id": "e3d73baa",
   "metadata": {},
   "source": [
    "# Operators in python"
   ]
  },
  {
   "cell_type": "code",
   "execution_count": 22,
   "id": "5fc269b3",
   "metadata": {},
   "outputs": [],
   "source": [
    "a = 5\n",
    "b = 5"
   ]
  },
  {
   "cell_type": "code",
   "execution_count": 23,
   "id": "4d87679c",
   "metadata": {},
   "outputs": [
    {
     "data": {
      "text/plain": [
       "10"
      ]
     },
     "execution_count": 23,
     "metadata": {},
     "output_type": "execute_result"
    }
   ],
   "source": [
    "# Addition\n",
    "a + b"
   ]
  },
  {
   "cell_type": "code",
   "execution_count": 24,
   "id": "011ea67a",
   "metadata": {},
   "outputs": [
    {
     "data": {
      "text/plain": [
       "0"
      ]
     },
     "execution_count": 24,
     "metadata": {},
     "output_type": "execute_result"
    }
   ],
   "source": [
    "# Subtraction\n",
    "a - b"
   ]
  },
  {
   "cell_type": "code",
   "execution_count": 26,
   "id": "12b38812",
   "metadata": {},
   "outputs": [
    {
     "data": {
      "text/plain": [
       "25"
      ]
     },
     "execution_count": 26,
     "metadata": {},
     "output_type": "execute_result"
    }
   ],
   "source": [
    "# Multiplication\n",
    "a * b"
   ]
  },
  {
   "cell_type": "code",
   "execution_count": 27,
   "id": "83af0c34",
   "metadata": {},
   "outputs": [
    {
     "data": {
      "text/plain": [
       "1.0"
      ]
     },
     "execution_count": 27,
     "metadata": {},
     "output_type": "execute_result"
    }
   ],
   "source": [
    "# Division\n",
    "a / b"
   ]
  },
  {
   "cell_type": "code",
   "execution_count": 28,
   "id": "ab308dce",
   "metadata": {},
   "outputs": [
    {
     "data": {
      "text/plain": [
       "float"
      ]
     },
     "execution_count": 28,
     "metadata": {},
     "output_type": "execute_result"
    }
   ],
   "source": [
    "type(a / b)"
   ]
  },
  {
   "cell_type": "code",
   "execution_count": 29,
   "id": "d3a69f27",
   "metadata": {},
   "outputs": [
    {
     "data": {
      "text/plain": [
       "int"
      ]
     },
     "execution_count": 29,
     "metadata": {},
     "output_type": "execute_result"
    }
   ],
   "source": [
    "type(a * b)"
   ]
  },
  {
   "cell_type": "code",
   "execution_count": 30,
   "id": "c5f4dbd4",
   "metadata": {},
   "outputs": [
    {
     "data": {
      "text/plain": [
       "0"
      ]
     },
     "execution_count": 30,
     "metadata": {},
     "output_type": "execute_result"
    }
   ],
   "source": [
    "# Modulus\n",
    "a % b"
   ]
  },
  {
   "cell_type": "markdown",
   "id": "51e4c792",
   "metadata": {},
   "source": [
    "# Relational Operators\n"
   ]
  },
  {
   "cell_type": "code",
   "execution_count": 31,
   "id": "ac13d6b3",
   "metadata": {},
   "outputs": [
    {
     "data": {
      "text/plain": [
       "True"
      ]
     },
     "execution_count": 31,
     "metadata": {},
     "output_type": "execute_result"
    }
   ],
   "source": [
    "a == b"
   ]
  },
  {
   "cell_type": "code",
   "execution_count": 32,
   "id": "2394855e",
   "metadata": {},
   "outputs": [
    {
     "data": {
      "text/plain": [
       "bool"
      ]
     },
     "execution_count": 32,
     "metadata": {},
     "output_type": "execute_result"
    }
   ],
   "source": [
    "type(a==b)"
   ]
  },
  {
   "cell_type": "code",
   "execution_count": 34,
   "id": "c41b0147",
   "metadata": {},
   "outputs": [
    {
     "data": {
      "text/plain": [
       "False"
      ]
     },
     "execution_count": 34,
     "metadata": {},
     "output_type": "execute_result"
    }
   ],
   "source": [
    "a != b"
   ]
  },
  {
   "cell_type": "code",
   "execution_count": 35,
   "id": "e8e43856",
   "metadata": {},
   "outputs": [
    {
     "data": {
      "text/plain": [
       "True"
      ]
     },
     "execution_count": 35,
     "metadata": {},
     "output_type": "execute_result"
    }
   ],
   "source": [
    "a = 15\n",
    "b = 10\n",
    "a > b"
   ]
  },
  {
   "cell_type": "code",
   "execution_count": 36,
   "id": "057e9105",
   "metadata": {},
   "outputs": [
    {
     "data": {
      "text/plain": [
       "False"
      ]
     },
     "execution_count": 36,
     "metadata": {},
     "output_type": "execute_result"
    }
   ],
   "source": [
    "a < b"
   ]
  },
  {
   "cell_type": "code",
   "execution_count": 37,
   "id": "1ec16fe0",
   "metadata": {},
   "outputs": [],
   "source": [
    "a = 10\n",
    "b = 10"
   ]
  },
  {
   "cell_type": "code",
   "execution_count": 38,
   "id": "303ca56b",
   "metadata": {},
   "outputs": [
    {
     "data": {
      "text/plain": [
       "True"
      ]
     },
     "execution_count": 38,
     "metadata": {},
     "output_type": "execute_result"
    }
   ],
   "source": [
    "a >= b"
   ]
  },
  {
   "cell_type": "code",
   "execution_count": 43,
   "id": "1eef9ed4",
   "metadata": {},
   "outputs": [
    {
     "data": {
      "text/plain": [
       "True"
      ]
     },
     "execution_count": 43,
     "metadata": {},
     "output_type": "execute_result"
    }
   ],
   "source": [
    "a <= b"
   ]
  },
  {
   "cell_type": "markdown",
   "id": "5bd7f0c0",
   "metadata": {},
   "source": [
    "# Logical Operators\n"
   ]
  },
  {
   "cell_type": "code",
   "execution_count": 44,
   "id": "de6a2e74",
   "metadata": {},
   "outputs": [],
   "source": [
    "a = 10\n",
    "b = 10"
   ]
  },
  {
   "cell_type": "code",
   "execution_count": 45,
   "id": "fdd2bfe8",
   "metadata": {},
   "outputs": [
    {
     "data": {
      "text/plain": [
       "True"
      ]
     },
     "execution_count": 45,
     "metadata": {},
     "output_type": "execute_result"
    }
   ],
   "source": [
    "(a == b) & (a >= b)"
   ]
  },
  {
   "cell_type": "code",
   "execution_count": 46,
   "id": "ba646621",
   "metadata": {},
   "outputs": [
    {
     "data": {
      "text/plain": [
       "False"
      ]
     },
     "execution_count": 46,
     "metadata": {},
     "output_type": "execute_result"
    }
   ],
   "source": [
    "(a != b) | (a > b)"
   ]
  },
  {
   "cell_type": "code",
   "execution_count": 51,
   "id": "7198d309",
   "metadata": {},
   "outputs": [
    {
     "data": {
      "text/plain": [
       "False"
      ]
     },
     "execution_count": 51,
     "metadata": {},
     "output_type": "execute_result"
    }
   ],
   "source": [
    "(a != b) "
   ]
  },
  {
   "cell_type": "markdown",
   "id": "7ff142b1",
   "metadata": {},
   "source": [
    "# _Tokens in Python_\n",
    " * true\n",
    " * false\n",
    " * and\n",
    " * or \n",
    " * not \n",
    " * class\n",
    " * continue\n",
    " * def\n",
    " * del\n",
    " * if\n",
    " * elif\n",
    " * For\n",
    " * Return\n",
    " * While\n",
    " * ``` With```"
   ]
  },
  {
   "cell_type": "code",
   "execution_count": 54,
   "id": "67d88cec",
   "metadata": {},
   "outputs": [],
   "source": [
    "#          Interpreter and Literals\n",
    "#                 V            V\n",
    "#                 V            V\n",
    "#                 V            V\n",
    "#         VariableName       Constants"
   ]
  },
  {
   "cell_type": "code",
   "execution_count": 57,
   "id": "1823f2b8",
   "metadata": {},
   "outputs": [],
   "source": [
    " # Name given to the variables are interpreters\n",
    " # They're case sensitive\n",
    " # Literals are values that are given to a variable\n",
    "var = \"Hello var\"\n",
    "VAR = \"Hello VAR\""
   ]
  },
  {
   "cell_type": "code",
   "execution_count": 58,
   "id": "9a3fc99e",
   "metadata": {},
   "outputs": [
    {
     "name": "stdout",
     "output_type": "stream",
     "text": [
      "Hello var\n",
      "Hello VAR\n"
     ]
    }
   ],
   "source": [
    "print(var)\n",
    "print(VAR)"
   ]
  },
  {
   "cell_type": "code",
   "execution_count": 59,
   "id": "07960bfb",
   "metadata": {},
   "outputs": [
    {
     "data": {
      "text/plain": [
       "str"
      ]
     },
     "execution_count": 59,
     "metadata": {},
     "output_type": "execute_result"
    }
   ],
   "source": [
    "type(var)"
   ]
  },
  {
   "cell_type": "markdown",
   "id": "f1341384",
   "metadata": {},
   "source": [
    "# Strings in Python"
   ]
  },
  {
   "cell_type": "code",
   "execution_count": 78,
   "id": "68fe2956",
   "metadata": {},
   "outputs": [],
   "source": [
    "str_1 = \"Jaidhev anandhev\""
   ]
  },
  {
   "cell_type": "code",
   "execution_count": 79,
   "id": "ccf6e4fa",
   "metadata": {},
   "outputs": [
    {
     "data": {
      "text/plain": [
       "16"
      ]
     },
     "execution_count": 79,
     "metadata": {},
     "output_type": "execute_result"
    }
   ],
   "source": [
    "len(str_1)"
   ]
  },
  {
   "cell_type": "code",
   "execution_count": 80,
   "id": "da2b8afd",
   "metadata": {},
   "outputs": [
    {
     "data": {
      "text/plain": [
       "str"
      ]
     },
     "execution_count": 80,
     "metadata": {},
     "output_type": "execute_result"
    }
   ],
   "source": [
    "type(str_1)"
   ]
  },
  {
   "cell_type": "code",
   "execution_count": 81,
   "id": "6d2d2002",
   "metadata": {},
   "outputs": [
    {
     "data": {
      "text/plain": [
       "'J'"
      ]
     },
     "execution_count": 81,
     "metadata": {},
     "output_type": "execute_result"
    }
   ],
   "source": [
    "str_1[0]"
   ]
  },
  {
   "cell_type": "code",
   "execution_count": 82,
   "id": "37213db7",
   "metadata": {},
   "outputs": [
    {
     "data": {
      "text/plain": [
       "'dhev'"
      ]
     },
     "execution_count": 82,
     "metadata": {},
     "output_type": "execute_result"
    }
   ],
   "source": [
    "str_1[3:7]"
   ]
  },
  {
   "cell_type": "code",
   "execution_count": 83,
   "id": "92871c7e",
   "metadata": {},
   "outputs": [
    {
     "data": {
      "text/plain": [
       "'anandhev'"
      ]
     },
     "execution_count": 83,
     "metadata": {},
     "output_type": "execute_result"
    }
   ],
   "source": [
    "str_1[8:17]"
   ]
  },
  {
   "cell_type": "code",
   "execution_count": 85,
   "id": "ebf7424c",
   "metadata": {},
   "outputs": [
    {
     "data": {
      "text/plain": [
       "'jaidhev anandhev'"
      ]
     },
     "execution_count": 85,
     "metadata": {},
     "output_type": "execute_result"
    }
   ],
   "source": [
    "# Converting Upper Case to Lower case\n",
    "str_1.lower()"
   ]
  },
  {
   "cell_type": "code",
   "execution_count": 86,
   "id": "b8fd26bd",
   "metadata": {},
   "outputs": [
    {
     "data": {
      "text/plain": [
       "'JAIDHEV ANANDHEV'"
      ]
     },
     "execution_count": 86,
     "metadata": {},
     "output_type": "execute_result"
    }
   ],
   "source": [
    "# Converting Lower Case to Upper case\n",
    "str_1.upper()"
   ]
  },
  {
   "cell_type": "code",
   "execution_count": 87,
   "id": "f6982779",
   "metadata": {},
   "outputs": [
    {
     "data": {
      "text/plain": [
       "'Jfidhev anandhev'"
      ]
     },
     "execution_count": 87,
     "metadata": {},
     "output_type": "execute_result"
    }
   ],
   "source": [
    "# Replacing the substring in a String\n",
    "str_1.replace('Jai', 'Jfi')"
   ]
  },
  {
   "cell_type": "code",
   "execution_count": 91,
   "id": "b8babf06",
   "metadata": {},
   "outputs": [
    {
     "data": {
      "text/plain": [
       "2"
      ]
     },
     "execution_count": 91,
     "metadata": {},
     "output_type": "execute_result"
    }
   ],
   "source": [
    "# count the words in a given string\n",
    "str_2 = \"Hello world Hello world\""
   ]
  },
  {
   "cell_type": "code",
   "execution_count": 92,
   "id": "731c2aef",
   "metadata": {},
   "outputs": [
    {
     "data": {
      "text/plain": [
       "2"
      ]
     },
     "execution_count": 92,
     "metadata": {},
     "output_type": "execute_result"
    }
   ],
   "source": [
    "str_2.count('Hello')"
   ]
  },
  {
   "cell_type": "code",
   "execution_count": 93,
   "id": "9181fbcc",
   "metadata": {},
   "outputs": [
    {
     "data": {
      "text/plain": [
       "2"
      ]
     },
     "execution_count": 93,
     "metadata": {},
     "output_type": "execute_result"
    }
   ],
   "source": [
    "str_2.count('world')"
   ]
  },
  {
   "cell_type": "code",
   "execution_count": 94,
   "id": "16fa0717",
   "metadata": {},
   "outputs": [
    {
     "data": {
      "text/plain": [
       "'Jaidhev anandhev'"
      ]
     },
     "execution_count": 94,
     "metadata": {},
     "output_type": "execute_result"
    }
   ],
   "source": [
    "str_1.replace('Jfi', 'Jai')"
   ]
  },
  {
   "cell_type": "code",
   "execution_count": 96,
   "id": "f6a0bc02",
   "metadata": {},
   "outputs": [
    {
     "data": {
      "text/plain": [
       "8"
      ]
     },
     "execution_count": 96,
     "metadata": {},
     "output_type": "execute_result"
    }
   ],
   "source": [
    "# find the particular string it returns the index\n",
    "str_1.find('anand')"
   ]
  },
  {
   "cell_type": "code",
   "execution_count": 98,
   "id": "d781ebce",
   "metadata": {},
   "outputs": [],
   "source": [
    "str_2 = \"Hello there are apples, banana, mangoes, kiwi in our farm\""
   ]
  },
  {
   "cell_type": "code",
   "execution_count": 102,
   "id": "e16a038c",
   "metadata": {},
   "outputs": [
    {
     "data": {
      "text/plain": [
       "['Hello',\n",
       " 'there',\n",
       " 'are',\n",
       " 'apples,',\n",
       " 'banana,',\n",
       " 'mangoes,',\n",
       " 'kiwi',\n",
       " 'in',\n",
       " 'our',\n",
       " 'farm']"
      ]
     },
     "execution_count": 102,
     "metadata": {},
     "output_type": "execute_result"
    }
   ],
   "source": [
    "# Splitting each and every terms in a sentence\n",
    "str_2.split(' ')"
   ]
  }
 ],
 "metadata": {
  "kernelspec": {
   "display_name": "Python 3 (ipykernel)",
   "language": "python",
   "name": "python3"
  },
  "language_info": {
   "codemirror_mode": {
    "name": "ipython",
    "version": 3
   },
   "file_extension": ".py",
   "mimetype": "text/x-python",
   "name": "python",
   "nbconvert_exporter": "python",
   "pygments_lexer": "ipython3",
   "version": "3.9.13"
  }
 },
 "nbformat": 4,
 "nbformat_minor": 5
}
