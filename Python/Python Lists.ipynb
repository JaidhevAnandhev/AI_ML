{
 "cells": [
  {
   "cell_type": "markdown",
   "id": "b327a6af",
   "metadata": {},
   "source": [
    "# Lists\n",
    "    ~~~ Lists are similar to tuples except that lists are mutable that is lists are mutable  ~~~\n",
    "    ~~~ That is data in lists can be modified and altered ~~~\n",
    "    ~~~ It is enclised within square braces [] ~~~"
   ]
  },
  {
   "cell_type": "code",
   "execution_count": 9,
   "id": "35436c3e",
   "metadata": {},
   "outputs": [],
   "source": [
    "list_1 = [108, \"Jaidhev\", 3.14, 5+6j]"
   ]
  },
  {
   "cell_type": "code",
   "execution_count": 10,
   "id": "16d91573",
   "metadata": {},
   "outputs": [
    {
     "data": {
      "text/plain": [
       "[108, 'Jaidhev', 3.14, (5+6j)]"
      ]
     },
     "execution_count": 10,
     "metadata": {},
     "output_type": "execute_result"
    }
   ],
   "source": [
    "list_1"
   ]
  },
  {
   "cell_type": "code",
   "execution_count": 11,
   "id": "f8c065e3",
   "metadata": {},
   "outputs": [
    {
     "data": {
      "text/plain": [
       "list"
      ]
     },
     "execution_count": 11,
     "metadata": {},
     "output_type": "execute_result"
    }
   ],
   "source": [
    "type(list_1)"
   ]
  },
  {
   "cell_type": "code",
   "execution_count": 12,
   "id": "63c1bf86",
   "metadata": {},
   "outputs": [],
   "source": [
    "# Data in the list can be altered or  modified\n",
    "list_1[2] = 3.142434"
   ]
  },
  {
   "cell_type": "code",
   "execution_count": 13,
   "id": "1e035b36",
   "metadata": {},
   "outputs": [
    {
     "data": {
      "text/plain": [
       "[108, 'Jaidhev', 3.142434, (5+6j)]"
      ]
     },
     "execution_count": 13,
     "metadata": {},
     "output_type": "execute_result"
    }
   ],
   "source": [
    "# Returns the modified list\n",
    "list_1"
   ]
  },
  {
   "cell_type": "code",
   "execution_count": 14,
   "id": "8e64364f",
   "metadata": {},
   "outputs": [],
   "source": [
    "# Append the data in a list \n",
    "list_1.append(\"data at the end\")"
   ]
  },
  {
   "cell_type": "code",
   "execution_count": 16,
   "id": "0c99887c",
   "metadata": {},
   "outputs": [
    {
     "data": {
      "text/plain": [
       "[108, 'Jaidhev', 3.142434, (5+6j), 'data at the end']"
      ]
     },
     "execution_count": 16,
     "metadata": {},
     "output_type": "execute_result"
    }
   ],
   "source": [
    "list_1"
   ]
  },
  {
   "cell_type": "code",
   "execution_count": 18,
   "id": "22c22009",
   "metadata": {},
   "outputs": [
    {
     "data": {
      "text/plain": [
       "3.142434"
      ]
     },
     "execution_count": 18,
     "metadata": {},
     "output_type": "execute_result"
    }
   ],
   "source": [
    "list_1[2]"
   ]
  },
  {
   "cell_type": "code",
   "execution_count": 20,
   "id": "c8ea78a4",
   "metadata": {},
   "outputs": [
    {
     "data": {
      "text/plain": [
       "[3.142434, (5+6j), 'data at the end']"
      ]
     },
     "execution_count": 20,
     "metadata": {},
     "output_type": "execute_result"
    }
   ],
   "source": [
    "# Printing the particular range of elemnts in a list\n",
    "list_1[2:5]"
   ]
  },
  {
   "cell_type": "code",
   "execution_count": 21,
   "id": "be7b2bf1",
   "metadata": {},
   "outputs": [
    {
     "data": {
      "text/plain": [
       "'data at the end'"
      ]
     },
     "execution_count": 21,
     "metadata": {},
     "output_type": "execute_result"
    }
   ],
   "source": [
    "#Remove the last element in a list\n",
    "list_1.pop()"
   ]
  },
  {
   "cell_type": "code",
   "execution_count": 22,
   "id": "e2fecae8",
   "metadata": {},
   "outputs": [
    {
     "data": {
      "text/plain": [
       "[108, 'Jaidhev', 3.142434, (5+6j)]"
      ]
     },
     "execution_count": 22,
     "metadata": {},
     "output_type": "execute_result"
    }
   ],
   "source": [
    "# Now the list is \n",
    "list_1"
   ]
  },
  {
   "cell_type": "code",
   "execution_count": 25,
   "id": "ff2fe796",
   "metadata": {},
   "outputs": [
    {
     "data": {
      "text/plain": [
       "[(5+6j), 3.142434, 'Jaidhev', 108]"
      ]
     },
     "execution_count": 25,
     "metadata": {},
     "output_type": "execute_result"
    }
   ],
   "source": [
    "#Reverse a list\n",
    "list_1.reverse()\n",
    "#Now the list is\n",
    "list_1"
   ]
  },
  {
   "cell_type": "code",
   "execution_count": 26,
   "id": "b74cb5dd",
   "metadata": {},
   "outputs": [
    {
     "data": {
      "text/plain": [
       "[108, 'Jaidhev', 3.142434, (5+6j)]"
      ]
     },
     "execution_count": 26,
     "metadata": {},
     "output_type": "execute_result"
    }
   ],
   "source": [
    "#Reverse a list\n",
    "list_1.reverse()\n",
    "#Now the list is\n",
    "list_1"
   ]
  },
  {
   "cell_type": "code",
   "execution_count": 29,
   "id": "43fc354d",
   "metadata": {},
   "outputs": [
    {
     "data": {
      "text/plain": [
       "[108, 'Hello', 'Jaidhev', 3.142434, (5+6j)]"
      ]
     },
     "execution_count": 29,
     "metadata": {},
     "output_type": "execute_result"
    }
   ],
   "source": [
    "# Insert an elemnt at a particular index\n",
    "list_1.insert(1, \"Hello\")\n",
    "list_1"
   ]
  },
  {
   "cell_type": "code",
   "execution_count": 2,
   "id": "c443baa5",
   "metadata": {},
   "outputs": [],
   "source": [
    "list_2 = [\"Jet\", \"Art\", \"Cat\", \"Ball\", \"Me\"]"
   ]
  },
  {
   "cell_type": "code",
   "execution_count": 3,
   "id": "14f703b9",
   "metadata": {},
   "outputs": [
    {
     "data": {
      "text/plain": [
       "['Art', 'Ball', 'Cat', 'Jet', 'Me']"
      ]
     },
     "execution_count": 3,
     "metadata": {},
     "output_type": "execute_result"
    }
   ],
   "source": [
    "#Sort a list\n",
    "list_2.sort()\n",
    "list_2"
   ]
  },
  {
   "cell_type": "code",
   "execution_count": 4,
   "id": "9ddc3c88",
   "metadata": {},
   "outputs": [
    {
     "ename": "NameError",
     "evalue": "name 'list_1' is not defined",
     "output_type": "error",
     "traceback": [
      "\u001b[1;31m---------------------------------------------------------------------------\u001b[0m",
      "\u001b[1;31mNameError\u001b[0m                                 Traceback (most recent call last)",
      "\u001b[1;32m~\\AppData\\Local\\Temp\\ipykernel_69680\\2782228104.py\u001b[0m in \u001b[0;36m<module>\u001b[1;34m\u001b[0m\n\u001b[0;32m      1\u001b[0m \u001b[1;31m# concatenating the lists\u001b[0m\u001b[1;33m\u001b[0m\u001b[1;33m\u001b[0m\u001b[0m\n\u001b[0;32m      2\u001b[0m \u001b[1;33m\u001b[0m\u001b[0m\n\u001b[1;32m----> 3\u001b[1;33m \u001b[0mlist_1\u001b[0m \u001b[1;33m+\u001b[0m \u001b[0mlist_2\u001b[0m\u001b[1;33m\u001b[0m\u001b[1;33m\u001b[0m\u001b[0m\n\u001b[0m",
      "\u001b[1;31mNameError\u001b[0m: name 'list_1' is not defined"
     ]
    }
   ],
   "source": [
    "# concatenating the lists\n",
    "\n",
    "list_1 + list_2"
   ]
  },
  {
   "cell_type": "code",
   "execution_count": 5,
   "id": "a338dbcf",
   "metadata": {},
   "outputs": [
    {
     "data": {
      "text/plain": [
       "['Art', 'Ball', 'Cat', 'Jet', 'Me', 'Art', 'Ball', 'Cat', 'Jet', 'Me']"
      ]
     },
     "execution_count": 5,
     "metadata": {},
     "output_type": "execute_result"
    }
   ],
   "source": [
    "# Repeating the elements in a list [TWICE]\n",
    "list_2 * 2"
   ]
  }
 ],
 "metadata": {
  "kernelspec": {
   "display_name": "Python 3 (ipykernel)",
   "language": "python",
   "name": "python3"
  },
  "language_info": {
   "codemirror_mode": {
    "name": "ipython",
    "version": 3
   },
   "file_extension": ".py",
   "mimetype": "text/x-python",
   "name": "python",
   "nbconvert_exporter": "python",
   "pygments_lexer": "ipython3",
   "version": "3.9.13"
  }
 },
 "nbformat": 4,
 "nbformat_minor": 5
}
