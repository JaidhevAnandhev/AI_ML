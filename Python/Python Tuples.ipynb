{
 "cells": [
  {
   "cell_type": "markdown",
   "id": "10b0fdaa",
   "metadata": {},
   "source": [
    "# Tuples in python\n",
    "    ~~~ It is a collection of elements enclosed within a curly braces ( ) ~~~\n",
    "    ~~~ They are immutable ( They cannot be modified or altered ) ~~~"
   ]
  },
  {
   "cell_type": "code",
   "execution_count": 2,
   "id": "239a3341",
   "metadata": {},
   "outputs": [],
   "source": [
    "tup_1 = (1, 'Jai', 3.14, True)"
   ]
  },
  {
   "cell_type": "code",
   "execution_count": 3,
   "id": "5da859d2",
   "metadata": {},
   "outputs": [
    {
     "data": {
      "text/plain": [
       "(1, 'Jai', 3.14, True)"
      ]
     },
     "execution_count": 3,
     "metadata": {},
     "output_type": "execute_result"
    }
   ],
   "source": [
    "tup_1"
   ]
  },
  {
   "cell_type": "code",
   "execution_count": 4,
   "id": "df9b2d23",
   "metadata": {},
   "outputs": [
    {
     "data": {
      "text/plain": [
       "tuple"
      ]
     },
     "execution_count": 4,
     "metadata": {},
     "output_type": "execute_result"
    }
   ],
   "source": [
    "# Returns the data type of the variable\n",
    "type(tup_1)"
   ]
  },
  {
   "cell_type": "code",
   "execution_count": 5,
   "id": "76222929",
   "metadata": {},
   "outputs": [
    {
     "data": {
      "text/plain": [
       "1"
      ]
     },
     "execution_count": 5,
     "metadata": {},
     "output_type": "execute_result"
    }
   ],
   "source": [
    "tup_1[0]"
   ]
  },
  {
   "cell_type": "code",
   "execution_count": 6,
   "id": "90c90b00",
   "metadata": {},
   "outputs": [
    {
     "data": {
      "text/plain": [
       "True"
      ]
     },
     "execution_count": 6,
     "metadata": {},
     "output_type": "execute_result"
    }
   ],
   "source": [
    "tup_1[-1]"
   ]
  },
  {
   "cell_type": "code",
   "execution_count": 7,
   "id": "738219e6",
   "metadata": {},
   "outputs": [
    {
     "data": {
      "text/plain": [
       "(3.14, True)"
      ]
     },
     "execution_count": 7,
     "metadata": {},
     "output_type": "execute_result"
    }
   ],
   "source": [
    "tup_1[2:4]"
   ]
  },
  {
   "cell_type": "code",
   "execution_count": 8,
   "id": "93b5ffe2",
   "metadata": {},
   "outputs": [
    {
     "ename": "TypeError",
     "evalue": "'tuple' object does not support item assignment",
     "output_type": "error",
     "traceback": [
      "\u001b[1;31m---------------------------------------------------------------------------\u001b[0m",
      "\u001b[1;31mTypeError\u001b[0m                                 Traceback (most recent call last)",
      "\u001b[1;32m~\\AppData\\Local\\Temp\\ipykernel_48812\\1037835934.py\u001b[0m in \u001b[0;36m<module>\u001b[1;34m\u001b[0m\n\u001b[1;32m----> 1\u001b[1;33m \u001b[0mtup_1\u001b[0m\u001b[1;33m[\u001b[0m\u001b[1;36m2\u001b[0m\u001b[1;33m]\u001b[0m \u001b[1;33m=\u001b[0m \u001b[1;36m3.1424\u001b[0m\u001b[1;33m\u001b[0m\u001b[1;33m\u001b[0m\u001b[0m\n\u001b[0m",
      "\u001b[1;31mTypeError\u001b[0m: 'tuple' object does not support item assignment"
     ]
    }
   ],
   "source": [
    "tup_1[2] = 3.1424"
   ]
  },
  {
   "cell_type": "code",
   "execution_count": null,
   "id": "61108b1b",
   "metadata": {},
   "outputs": [],
   "source": [
    "tup_1\n"
   ]
  },
  {
   "cell_type": "code",
   "execution_count": 10,
   "id": "a9d77d83",
   "metadata": {},
   "outputs": [],
   "source": [
    "tup_2 = (2, 'Jai', 4.22, 5+7j, False)"
   ]
  },
  {
   "cell_type": "code",
   "execution_count": 11,
   "id": "4a176bfe",
   "metadata": {},
   "outputs": [
    {
     "data": {
      "text/plain": [
       "(1, 'Jai', 3.14, True, 2, 'Jai', 4.22, (5+7j), False)"
      ]
     },
     "execution_count": 11,
     "metadata": {},
     "output_type": "execute_result"
    }
   ],
   "source": [
    "# Concatenating Tuple\n",
    "tup_1 + tup_2\n"
   ]
  },
  {
   "cell_type": "code",
   "execution_count": 12,
   "id": "62481b86",
   "metadata": {},
   "outputs": [
    {
     "data": {
      "text/plain": [
       "4"
      ]
     },
     "execution_count": 12,
     "metadata": {},
     "output_type": "execute_result"
    }
   ],
   "source": [
    "# Length of the tuple is returned\n",
    "len(tup_1)"
   ]
  },
  {
   "cell_type": "code",
   "execution_count": 13,
   "id": "e485e89b",
   "metadata": {
    "scrolled": true
   },
   "outputs": [
    {
     "data": {
      "text/plain": [
       "5"
      ]
     },
     "execution_count": 13,
     "metadata": {},
     "output_type": "execute_result"
    }
   ],
   "source": [
    "len(tup_2)"
   ]
  },
  {
   "cell_type": "code",
   "execution_count": 14,
   "id": "263eace8",
   "metadata": {},
   "outputs": [
    {
     "data": {
      "text/plain": [
       "(2, 'Jai', 4.22, (5+7j), False, 1, 'Jai', 3.14, True)"
      ]
     },
     "execution_count": 14,
     "metadata": {},
     "output_type": "execute_result"
    }
   ],
   "source": [
    "tup_2 + tup_1"
   ]
  },
  {
   "cell_type": "code",
   "execution_count": 16,
   "id": "67073212",
   "metadata": {},
   "outputs": [
    {
     "data": {
      "text/plain": [
       "(2,\n",
       " 'Jai',\n",
       " 4.22,\n",
       " (5+7j),\n",
       " False,\n",
       " 2,\n",
       " 'Jai',\n",
       " 4.22,\n",
       " (5+7j),\n",
       " False,\n",
       " 2,\n",
       " 'Jai',\n",
       " 4.22,\n",
       " (5+7j),\n",
       " False)"
      ]
     },
     "execution_count": 16,
     "metadata": {},
     "output_type": "execute_result"
    }
   ],
   "source": [
    "#Repeating the tuple 3 times\n",
    "tup_2 * 3"
   ]
  },
  {
   "cell_type": "code",
   "execution_count": 17,
   "id": "fc70da0d",
   "metadata": {},
   "outputs": [
    {
     "data": {
      "text/plain": [
       "(1, 'Jai', 3.14, True, 1, 'Jai', 3.14, True, 2, 'Jai', 4.22, (5+7j), False)"
      ]
     },
     "execution_count": 17,
     "metadata": {},
     "output_type": "execute_result"
    }
   ],
   "source": [
    "#Repeating the tuple 3 times and also concatenating at the same time\n",
    "tup_1 * 2 + tup_2"
   ]
  },
  {
   "cell_type": "code",
   "execution_count": 18,
   "id": "fde60f65",
   "metadata": {},
   "outputs": [
    {
     "ename": "TypeError",
     "evalue": "'<' not supported between instances of 'str' and 'int'",
     "output_type": "error",
     "traceback": [
      "\u001b[1;31m---------------------------------------------------------------------------\u001b[0m",
      "\u001b[1;31mTypeError\u001b[0m                                 Traceback (most recent call last)",
      "\u001b[1;32m~\\AppData\\Local\\Temp\\ipykernel_48812\\2232585498.py\u001b[0m in \u001b[0;36m<module>\u001b[1;34m\u001b[0m\n\u001b[1;32m----> 1\u001b[1;33m \u001b[0mmin\u001b[0m\u001b[1;33m(\u001b[0m\u001b[0mtup_1\u001b[0m\u001b[1;33m)\u001b[0m\u001b[1;33m\u001b[0m\u001b[1;33m\u001b[0m\u001b[0m\n\u001b[0m",
      "\u001b[1;31mTypeError\u001b[0m: '<' not supported between instances of 'str' and 'int'"
     ]
    }
   ],
   "source": [
    "min(tup_1)"
   ]
  },
  {
   "cell_type": "code",
   "execution_count": 29,
   "id": "4a2a6e66",
   "metadata": {},
   "outputs": [],
   "source": [
    "tup_3 = (1,2,3,4,5)"
   ]
  },
  {
   "cell_type": "code",
   "execution_count": 30,
   "id": "08653ad0",
   "metadata": {},
   "outputs": [
    {
     "data": {
      "text/plain": [
       "1"
      ]
     },
     "execution_count": 30,
     "metadata": {},
     "output_type": "execute_result"
    }
   ],
   "source": [
    "#Return the min number from the tuple\n",
    "min(tup_3)"
   ]
  },
  {
   "cell_type": "code",
   "execution_count": 31,
   "id": "38c32933",
   "metadata": {},
   "outputs": [
    {
     "data": {
      "text/plain": [
       "5"
      ]
     },
     "execution_count": 31,
     "metadata": {},
     "output_type": "execute_result"
    }
   ],
   "source": [
    "# Return the max number in the tuple\n",
    "max(tup_3)"
   ]
  },
  {
   "cell_type": "markdown",
   "id": "70ea67cc",
   "metadata": {},
   "source": [
    "# Tuples are immutable"
   ]
  },
  {
   "cell_type": "code",
   "execution_count": 32,
   "id": "dd821032",
   "metadata": {},
   "outputs": [
    {
     "ename": "TypeError",
     "evalue": "'tuple' object does not support item assignment",
     "output_type": "error",
     "traceback": [
      "\u001b[1;31m---------------------------------------------------------------------------\u001b[0m",
      "\u001b[1;31mTypeError\u001b[0m                                 Traceback (most recent call last)",
      "\u001b[1;32m~\\AppData\\Local\\Temp\\ipykernel_48812\\707069709.py\u001b[0m in \u001b[0;36m<module>\u001b[1;34m\u001b[0m\n\u001b[1;32m----> 1\u001b[1;33m \u001b[0mtup_3\u001b[0m\u001b[1;33m[\u001b[0m\u001b[1;36m2\u001b[0m\u001b[1;33m]\u001b[0m \u001b[1;33m=\u001b[0m \u001b[1;36m6\u001b[0m\u001b[1;33m\u001b[0m\u001b[1;33m\u001b[0m\u001b[0m\n\u001b[0m",
      "\u001b[1;31mTypeError\u001b[0m: 'tuple' object does not support item assignment"
     ]
    }
   ],
   "source": [
    "tup_3[2] = 6"
   ]
  },
  {
   "cell_type": "code",
   "execution_count": 33,
   "id": "46da1b22",
   "metadata": {},
   "outputs": [
    {
     "data": {
      "text/plain": [
       "tuple"
      ]
     },
     "execution_count": 33,
     "metadata": {},
     "output_type": "execute_result"
    }
   ],
   "source": [
    "type(tup_3)"
   ]
  }
 ],
 "metadata": {
  "kernelspec": {
   "display_name": "Python 3 (ipykernel)",
   "language": "python",
   "name": "python3"
  },
  "language_info": {
   "codemirror_mode": {
    "name": "ipython",
    "version": 3
   },
   "file_extension": ".py",
   "mimetype": "text/x-python",
   "name": "python",
   "nbconvert_exporter": "python",
   "pygments_lexer": "ipython3",
   "version": "3.9.13"
  }
 },
 "nbformat": 4,
 "nbformat_minor": 5
}
