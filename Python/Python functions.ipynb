{
 "cells": [
  {
   "cell_type": "markdown",
   "id": "797973f6",
   "metadata": {},
   "source": [
    "# Normal Functions in Python\n",
    "`` They are named functions ``"
   ]
  },
  {
   "cell_type": "code",
   "execution_count": 1,
   "id": "dd850ba6",
   "metadata": {},
   "outputs": [],
   "source": [
    "# Start the function with def"
   ]
  },
  {
   "cell_type": "code",
   "execution_count": 2,
   "id": "bc7b8fd5",
   "metadata": {},
   "outputs": [],
   "source": [
    "def hello():\n",
    "    print(\"Hello World\")"
   ]
  },
  {
   "cell_type": "code",
   "execution_count": 3,
   "id": "185290ae",
   "metadata": {},
   "outputs": [
    {
     "name": "stdout",
     "output_type": "stream",
     "text": [
      "Hello World\n"
     ]
    }
   ],
   "source": [
    "# Call the function\n",
    "hello()"
   ]
  },
  {
   "cell_type": "code",
   "execution_count": 4,
   "id": "f2d79dfa",
   "metadata": {},
   "outputs": [],
   "source": [
    "# Function with parameter \n",
    "def useParam(n):\n",
    "    print(n + 10)"
   ]
  },
  {
   "cell_type": "code",
   "execution_count": 5,
   "id": "fb007870",
   "metadata": {},
   "outputs": [
    {
     "name": "stdout",
     "output_type": "stream",
     "text": [
      "100\n"
     ]
    }
   ],
   "source": [
    "useParam(90)"
   ]
  },
  {
   "cell_type": "code",
   "execution_count": 7,
   "id": "3cba84b4",
   "metadata": {},
   "outputs": [],
   "source": [
    "# Function to find even odd of a function\n",
    "def evenOdd(n):\n",
    "    if(n % 2 == 0):\n",
    "        print(\"Even number\")\n",
    "    else:\n",
    "        print(\"Odd number\")"
   ]
  },
  {
   "cell_type": "code",
   "execution_count": 8,
   "id": "d72bd748",
   "metadata": {},
   "outputs": [
    {
     "name": "stdout",
     "output_type": "stream",
     "text": [
      "Odd number\n"
     ]
    }
   ],
   "source": [
    "evenOdd(167)"
   ]
  },
  {
   "cell_type": "code",
   "execution_count": 9,
   "id": "cebd0376",
   "metadata": {},
   "outputs": [
    {
     "name": "stdout",
     "output_type": "stream",
     "text": [
      "Even number\n"
     ]
    }
   ],
   "source": [
    "evenOdd(108)"
   ]
  },
  {
   "cell_type": "markdown",
   "id": "279592bb",
   "metadata": {},
   "source": [
    "# Lambda function \n",
    "* ``` It is an annonymous function ```\n",
    "* ``` We don't assign any names to this function ```\n",
    "* ``` SYNTAX : lambda argument(s) : expression ```"
   ]
  },
  {
   "cell_type": "code",
   "execution_count": 17,
   "id": "e53bfa6a",
   "metadata": {},
   "outputs": [
    {
     "data": {
      "text/plain": [
       "<function __main__.<lambda>()>"
      ]
     },
     "execution_count": 17,
     "metadata": {},
     "output_type": "execute_result"
    }
   ],
   "source": [
    "lambda : print(\"Hello\")"
   ]
  },
  {
   "cell_type": "code",
   "execution_count": 18,
   "id": "e1ae3025",
   "metadata": {},
   "outputs": [],
   "source": [
    "g = lambda : print(\"Hello\")"
   ]
  },
  {
   "cell_type": "code",
   "execution_count": 19,
   "id": "71416e42",
   "metadata": {},
   "outputs": [
    {
     "name": "stdout",
     "output_type": "stream",
     "text": [
      "Hello\n"
     ]
    }
   ],
   "source": [
    "g()"
   ]
  },
  {
   "cell_type": "code",
   "execution_count": 20,
   "id": "8340c8d6",
   "metadata": {},
   "outputs": [],
   "source": [
    "# Parameter passed to an lambda function\n",
    "func = lambda name : print(\"Hello\", name)"
   ]
  },
  {
   "cell_type": "code",
   "execution_count": 21,
   "id": "75171fbd",
   "metadata": {},
   "outputs": [
    {
     "name": "stdout",
     "output_type": "stream",
     "text": [
      "Hello Jaidhev\n"
     ]
    }
   ],
   "source": [
    "func(\"Jaidhev\")"
   ]
  },
  {
   "cell_type": "markdown",
   "id": "d11d47e5",
   "metadata": {},
   "source": [
    "# Lambda function with filter( )"
   ]
  },
  {
   "cell_type": "code",
   "execution_count": 22,
   "id": "9064a48a",
   "metadata": {},
   "outputs": [
    {
     "name": "stdout",
     "output_type": "stream",
     "text": [
      "[23, 57, 45, 35]\n"
     ]
    }
   ],
   "source": [
    "# It removes the unnes=cessary elements in a list\n",
    "list_1 = [23, 46, 57, 84, 45, 66, 35, 78]\n",
    "final_list = list(filter(lambda x: (x % 2 != 0), list_1))\n",
    "print(final_list)"
   ]
  },
  {
   "cell_type": "markdown",
   "id": "5e27c12b",
   "metadata": {},
   "source": [
    "# Lambda function with map( )"
   ]
  },
  {
   "cell_type": "code",
   "execution_count": 1,
   "id": "20a58358",
   "metadata": {},
   "outputs": [
    {
     "name": "stdout",
     "output_type": "stream",
     "text": [
      "[4, 8, 12, 16, 20]\n"
     ]
    }
   ],
   "source": [
    "# It modifies the entire data in the list\n",
    "list_2 = [2,4,6,8,10]\n",
    "final_list = list(map(lambda x : (x * 2), list_2))\n",
    "print(final_list)"
   ]
  },
  {
   "cell_type": "markdown",
   "id": "aa6bd7a6",
   "metadata": {},
   "source": [
    "# Lambda function with reduce( )"
   ]
  },
  {
   "cell_type": "code",
   "execution_count": 3,
   "id": "3c6a0437",
   "metadata": {},
   "outputs": [
    {
     "name": "stdout",
     "output_type": "stream",
     "text": [
      "15\n"
     ]
    }
   ],
   "source": [
    "# It traverses throughout the list and does the required function \n",
    "# Here we will add all the elements in the list\n",
    "from functools import reduce\n",
    "list_1 = [1,2,3,4,5]\n",
    "final_sum = reduce(lambda a, b : a + b, list_1)\n",
    "print(final_sum)"
   ]
  }
 ],
 "metadata": {
  "kernelspec": {
   "display_name": "Python 3 (ipykernel)",
   "language": "python",
   "name": "python3"
  },
  "language_info": {
   "codemirror_mode": {
    "name": "ipython",
    "version": 3
   },
   "file_extension": ".py",
   "mimetype": "text/x-python",
   "name": "python",
   "nbconvert_exporter": "python",
   "pygments_lexer": "ipython3",
   "version": "3.9.13"
  }
 },
 "nbformat": 4,
 "nbformat_minor": 5
}
